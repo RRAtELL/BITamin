{
 "cells": [
  {
   "cell_type": "markdown",
   "metadata": {},
   "source": [
    "# <font color=\"navy\"> [6기 1학기 기말고사]"
   ]
  },
  {
   "cell_type": "markdown",
   "metadata": {},
   "source": [
    "<font color=\"blue\"> \n",
    "- **아래의 문제에 답을 채워넣은 뒤 모든 결과물이 프린트 된 상태에서 `File>Download as>HTML(.html)` 형식으로 저장하여 구글폼에 업로드 해주세요.**\n",
    "- **시험시간은 <font color=red>15:00 부터 16:30 까지<font color=blue> 입니다.**\n",
    "- **제출 양식은 <font color=red>\"6기_기말고사_홍길동\" <font color=blue>입니다.**"
   ]
  },
  {
   "cell_type": "markdown",
   "metadata": {},
   "source": [
    "### [문제 1] 숫자 범위의 시작과 끝을 입력으로 받아 해당 범위에 있는 소수를 반환하는 함수를 만드세요. [30점]"
   ]
  },
  {
   "cell_type": "markdown",
   "metadata": {},
   "source": [
    "- 소수란 1과 자기 자신으로만 나누어 떨어지는 수를 의미합니다.\n",
    "- 예) 10과 19를 입력으로 받으면 11,13,17,19를 출력합니다.\n",
    "        prime(10,19) -> 11, 13, 17, 19"
   ]
  },
  {
   "cell_type": "code",
   "execution_count": null,
   "metadata": {},
   "outputs": [],
   "source": [
    "#code here..\n"
   ]
  },
  {
   "cell_type": "markdown",
   "metadata": {},
   "source": [
    "### [문제 2] movie 데이터를 불러오고 다음의 문제를 해결하세요. [70점]\n",
    "**영화( 'movie_title' ) 의 컨텐츠 등급( 'content_rating' )을 예측하는 과정입니다.**"
   ]
  },
  {
   "cell_type": "markdown",
   "metadata": {},
   "source": [
    "#### [문제 2-1] 결측치 처리 [10점]\n",
    "- 'actor_2_name', 'actor_2_facebook_likes', 'actor_3_name', 'actor_3_facebook_likes', 'movie_imdb_link', 'plot_keywords' column 을 지우세요.\n",
    "- 각 column의 결측치를 확인하고 'color'와 'gross' 열에 결측치가 있다면 해당 행을 제거하세요.\n",
    "- 'budget'의 결측치는 평균값으로, 'content_rating' 는 최빈값으로 대체하세요. 이때 최빈값은 시각화하여 확인한 후 대체하세요."
   ]
  },
  {
   "cell_type": "code",
   "execution_count": null,
   "metadata": {},
   "outputs": [],
   "source": [
    "import matplotlib.pyplot as plt\n",
    "import seaborn as sns"
   ]
  },
  {
   "cell_type": "code",
   "execution_count": null,
   "metadata": {},
   "outputs": [],
   "source": [
    "import pandas as pd\n",
    "data = pd.read_csv('./movie.csv')\n",
    "data.head()"
   ]
  },
  {
   "cell_type": "code",
   "execution_count": null,
   "metadata": {
    "scrolled": false
   },
   "outputs": [],
   "source": [
    "#code here..\n"
   ]
  },
  {
   "cell_type": "markdown",
   "metadata": {},
   "source": [
    "#### [문제 2-2] 시각화 및 feature 생성 [20점]\n",
    "- 'content_rating' 이 `'R'`, `'PG-13'`, `'PG'` 인 데이터만 추출하여 data2 변수에 저장하고, 다음과 같은 결과가 나오도록 시각화 하세요.\n",
    "![nn](boxplot.png)"
   ]
  },
  {
   "cell_type": "code",
   "execution_count": null,
   "metadata": {},
   "outputs": [],
   "source": [
    "#code here..\n"
   ]
  },
  {
   "cell_type": "markdown",
   "metadata": {},
   "source": [
    "- 정수형 데이터인 'aspect_ratio' 를 범주형 데이터 `'norrow'`, `'standard'`, `'wide'` 로 다시 나누어 'aspect_ratio2' 열을 만드세요. 단, 나눈 기준에 대한 근거로 시각화 자료를 제시하세요.\n",
    "- 'aspect_ratio2' 열을 더미변수로 바꾼 후 features에 concat으로 연결하세요. **(연결 후 features의 column 개수는 5개 입니다 !!)**"
   ]
  },
  {
   "cell_type": "code",
   "execution_count": null,
   "metadata": {},
   "outputs": [],
   "source": [
    "#code here..\n"
   ]
  },
  {
   "cell_type": "markdown",
   "metadata": {},
   "source": [
    "- 영화감독별 `'gross'`, `'duration'`, `'budget'`, `'imdb_score'`의 평균을 구한 feature를 features 에 추가하세요."
   ]
  },
  {
   "cell_type": "code",
   "execution_count": null,
   "metadata": {},
   "outputs": [],
   "source": [
    "#code here..\n"
   ]
  },
  {
   "cell_type": "markdown",
   "metadata": {},
   "source": [
    "- feature들의 피어슨 상관계수를 다음과 동일하게 도식화 하세요. figsize는 (8,7) 입니다.\n",
    "![nn](heatmap.png)"
   ]
  },
  {
   "cell_type": "code",
   "execution_count": null,
   "metadata": {},
   "outputs": [],
   "source": [
    "#code here..\n"
   ]
  },
  {
   "cell_type": "markdown",
   "metadata": {},
   "source": [
    "#### [문제 2-3] 데이터 표준화 [5점]\n",
    "- 'content_rating'열을 data2에 추가해주세요.\n",
    "- X에 `'norrow'`, `'standard'`, `'wide'`, `'duration_mean'`,`'gross_mean'`,`'budget_mean'`,`'imdb_score_mean'`열만 저장해주세요.\n",
    "- Y에 `'content_rating'`열을 저장해주세요.\n",
    "- StandardScaler를 이용해 X를 표준화한 다음 decribe()함수로 확인해주세요."
   ]
  },
  {
   "cell_type": "code",
   "execution_count": null,
   "metadata": {},
   "outputs": [],
   "source": [
    "#code here..\n"
   ]
  },
  {
   "cell_type": "markdown",
   "metadata": {},
   "source": [
    "#### [문제 2-4] 데이터 학습 및 평가 [15점]\n",
    "- X, Y를 훈련 데이터와 평가 데이터로 7:3의 비율로 나눠주세요. random_state는 10으로 고정해주세요.\n",
    "- RandomForest와 SVM, DecisionTree를 학습한 다음 정확도`('accuracy')`를 계산해주세요.\n",
    "\n",
    "        - 답안예시 -\n",
    "        test set RandomForestClassifier 분류기 정확도 : 0.5836\n",
    "        test set SVC 분류기 정확도 : 0.5261\n",
    "        test set DecisionTreeClassifier 분류기 정확도 : 0.5253\n",
    "-------------------------------------------------------------\n",
    "**- Hint -**\n",
    "1. for 문을 사용하면 빠르고 쉽지만 어려우시다면 각각 모델 돌리셔도 됩니다.\n",
    "2. 출력문은 print(\"test set {} 분류기 정확도 : {:.4f}\".format(A, B)) 형식을 사용하면 됩니다."
   ]
  },
  {
   "cell_type": "code",
   "execution_count": null,
   "metadata": {},
   "outputs": [],
   "source": [
    "import warnings\n",
    "warnings.filterwarnings(\"ignore\")"
   ]
  },
  {
   "cell_type": "code",
   "execution_count": null,
   "metadata": {},
   "outputs": [],
   "source": [
    "#code here..\n"
   ]
  },
  {
   "cell_type": "markdown",
   "metadata": {},
   "source": [
    "#### [문제 2-5] 데이터 학습 및 평가 (앙상블-보팅) [10점]\n",
    "- RandomForest와 SVM, DecisionTree를 활용한 앙상블(보팅)모델을 구현해주세요.\n",
    "- 디폴트 값인 하드보팅으로 해주시면 됩니다.\n",
    "\n",
    "        - 답안예시 -\n",
    "        Voting 분류기 정확도: 0.5714"
   ]
  },
  {
   "cell_type": "code",
   "execution_count": null,
   "metadata": {},
   "outputs": [],
   "source": [
    "#code here..\n"
   ]
  },
  {
   "cell_type": "markdown",
   "metadata": {},
   "source": [
    "#### [문제 2-6] 데이터 학습 및 평가(교차검증) [10점]\n",
    "- **문제[2-5]** 의 앙상블 모델을 교차검증을 통해 정확도를 다시 계산하는 과정입니다.\n",
    "- stratified k-fold cross-validation을 사용해주세요. 5겹으로 데이터를 나누고, fold를 나누기 전 무작위로 섞도록 설정해주세요.\n",
    "- 교차 검증별 정확도와 평균 검증 정확도를 계산해주세요.\n",
    "\n",
    "        - 답안예시 -\n",
    "        교차 검증별 정확도: [0.5888 0.5843 0.5673 0.5621 0.5569]\n",
    "        평균 검증 정확도: 0.5719"
   ]
  },
  {
   "cell_type": "code",
   "execution_count": null,
   "metadata": {},
   "outputs": [],
   "source": [
    "#code here..\n"
   ]
  }
 ],
 "metadata": {
  "kernelspec": {
   "display_name": "Python 3",
   "language": "python",
   "name": "python3"
  },
  "language_info": {
   "codemirror_mode": {
    "name": "ipython",
    "version": 3
   },
   "file_extension": ".py",
   "mimetype": "text/x-python",
   "name": "python",
   "nbconvert_exporter": "python",
   "pygments_lexer": "ipython3",
   "version": "3.7.7"
  }
 },
 "nbformat": 4,
 "nbformat_minor": 4
}
