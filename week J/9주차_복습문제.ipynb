{
 "cells": [
  {
   "cell_type": "markdown",
   "metadata": {},
   "source": [
    "# 1. 결정 트리 알고리즘 및 지니 계수"
   ]
  },
  {
   "cell_type": "markdown",
   "metadata": {},
   "source": [
    "## 1-1. ㄱ)과 ㄴ)에 들어갈 말을 쓰시오.\n",
    "결정 트리 알고리즘은 균일도를 기반으로 하는 알고리즘으로 쉽고 직관적이라는 장점이 있습니다. \n",
    "하지만 균일도가 다양할수록 트리는 복잡해지고, model이 train data에 너무 잘 맞는 (ㄱ) 문제가 발생합니다.\n",
    "따라서 (ㄴ)을 조정하여 (ㄱ) 문제를 해결 할 수 있습니다.\n"
   ]
  },
  {
   "cell_type": "code",
   "execution_count": null,
   "metadata": {},
   "outputs": [],
   "source": []
  },
  {
   "cell_type": "markdown",
   "metadata": {},
   "source": [
    "## 1-2 N1과 N2의 지니 계수를 바탕으로 N의 지니 계수를 계산하시오. (code없이 계산기로 계산하셔도 됩니다.)\n",
    "참고. parent 노드에서 N1과 N2 노드로 나누어지는 구조입니다.\n",
    " \n",
    "        Parent |\tN1\t |  N2\n",
    "    C1     5   |\t3\t  |  1\n",
    "    C2     5   |\t2\t  |  4\n"
   ]
  },
  {
   "cell_type": "code",
   "execution_count": null,
   "metadata": {},
   "outputs": [],
   "source": []
  },
  {
   "cell_type": "markdown",
   "metadata": {},
   "source": [
    "# 2. 엔트로피 복습문제"
   ]
  },
  {
   "cell_type": "markdown",
   "metadata": {},
   "source": [
    "## 2-1. 다음 빈칸의 답을 각주로 달아주세요.\n",
    "\n",
    "엔트로피란 ( ㉠ )를 정량화하여 표현한 값이다. \n",
    "어떤 집합의 엔트로피가 높을 수록 그 집단의 특징을 찾는 것이 어렵다. \n",
    "결정 트리의 리프 노드들은 엔트로피가 최소가 되는 방향으로 분류하는 것이 최적의 분류이다. \n",
    "( ㉡ )는 1-엔트로피로 나타내며 ( ㉡ )를 최대화하는 순서로 속성을 배치해야 한다."
   ]
  },
  {
   "cell_type": "code",
   "execution_count": null,
   "metadata": {},
   "outputs": [],
   "source": []
  },
  {
   "cell_type": "markdown",
   "metadata": {},
   "source": [
    "## 2-2. 파이썬을 사용해서 엔트로피를 직접 계산해보겠습니다. 다음은 엔트로피를 계산하는 함수입니다."
   ]
  },
  {
   "cell_type": "markdown",
   "metadata": {},
   "source": [
    "from IPython.display import Image\n",
    "![title](9주차_복습문제_그림.png) # markdown안에서 나오게 할 때"
   ]
  },
  {
   "cell_type": "code",
   "execution_count": 1,
   "metadata": {},
   "outputs": [],
   "source": [
    "import numpy as np\n",
    "\n",
    "def Entropy(p):\n",
    "    id_p = np.where(p!=0)\n",
    "    return -np.sum(p[id_p]*np.log(p[id_p]))"
   ]
  },
  {
   "cell_type": "markdown",
   "metadata": {},
   "source": [
    "### 2-2-1. 분할 전 엔트로피를 계산해서 소수점 넷째 자리에서 반올림해주세요. 확률을 np.array로 정의하여 함수 안에 넣어주시면 됩니다."
   ]
  },
  {
   "cell_type": "code",
   "execution_count": null,
   "metadata": {},
   "outputs": [],
   "source": []
  },
  {
   "cell_type": "markdown",
   "metadata": {},
   "source": [
    "### 2-2-2. 분할 후 엔트로피를 계산해서 서 소수점 넷째 자리에서 반올림해주세요."
   ]
  },
  {
   "cell_type": "code",
   "execution_count": null,
   "metadata": {},
   "outputs": [],
   "source": []
  },
  {
   "cell_type": "markdown",
   "metadata": {},
   "source": [
    "### 2-2-3. 도출한 결과를 바탕으로 결과를 해석해주세요."
   ]
  },
  {
   "cell_type": "code",
   "execution_count": null,
   "metadata": {},
   "outputs": [],
   "source": []
  },
  {
   "cell_type": "markdown",
   "metadata": {
    "id": "hvTGI473zwlU"
   },
   "source": [
    "# 3.breast-cancer 데이터 셋을 활용해서 다음 지시사항에 따라 문제를 풀어주세요."
   ]
  },
  {
   "cell_type": "markdown",
   "metadata": {
    "id": "7FvC6lCvzzLm"
   },
   "source": [
    "## 3-1. 데이터 셋을 활용해서 DecisionTreeClassifier로 학습해주세요!\n",
    "\n"
   ]
  },
  {
   "cell_type": "markdown",
   "metadata": {
    "id": "_1TEw4iP2vA_"
   },
   "source": [
    "* class열을 label로 나머지 열을 feature로 사용하시면 됩니다!"
   ]
  },
  {
   "cell_type": "markdown",
   "metadata": {
    "id": "YJz5mtCK2vlM"
   },
   "source": [
    "* test_size=0.3, random_state=본인 나이로 지정해주세요!"
   ]
  },
  {
   "cell_type": "code",
   "execution_count": 2,
   "metadata": {
    "id": "cYvaciXqzcjm"
   },
   "outputs": [],
   "source": [
    "from sklearn.tree import DecisionTreeClassifier\n",
    "from sklearn.model_selection import train_test_split\n",
    "import pandas as pd\n",
    "import numpy as np\n",
    "uci_path='http://archive.ics.uci.edu/ml/machine-learning-databases/breast-cancer-wisconsin/breast-cancer-wisconsin.data'\n",
    "df=pd.read_csv(uci_path,header=None)\n",
    "df.columns=['id','clump','cell_size','cell_shape','adhesion','epithlial','bare_nuclei','chromatin','normal_nucleoli','mitoses','class']\n",
    "pd.set_option('display.max_columns',15) #최대 열 개수 조정\n",
    "df['bare_nuclei'].replace('?',np.nan,inplace=True)\n",
    "df.dropna(subset=['bare_nuclei'],axis=0,inplace=True) #bare_nuclei 열 누락 데이터 삭제\n",
    "df['bare_nuclei']=df['bare_nuclei'].astype('int') #bare_nuclei 열 정수형 전환"
   ]
  },
  {
   "cell_type": "code",
   "execution_count": null,
   "metadata": {
    "colab": {
     "base_uri": "https://localhost:8080/"
    },
    "id": "zlysxSkPzhDp",
    "outputId": "7eb7f04f-6521-4baf-bb62-3e06b08a2471"
   },
   "outputs": [],
   "source": []
  },
  {
   "cell_type": "markdown",
   "metadata": {
    "id": "u6IKzxcAz9pq"
   },
   "source": [
    "## 3-2. 학습한 모델을 graphviz모듈로 시각화 해주세요.\n",
    "\n"
   ]
  },
  {
   "cell_type": "markdown",
   "metadata": {
    "id": "KFsq7Q5J2gub"
   },
   "source": [
    "* 하이퍼 파라미터는 제어하지 말아주세요!"
   ]
  },
  {
   "cell_type": "markdown",
   "metadata": {
    "id": "1qmD3pQ22WN-"
   },
   "source": [
    "* class_names=['2','4']로 지정해 주세요!\n"
   ]
  },
  {
   "cell_type": "markdown",
   "metadata": {
    "id": "8k4biaYy25R5"
   },
   "source": [
    "* impurity와 filled 속성은 True로 지정해주세요!"
   ]
  },
  {
   "cell_type": "markdown",
   "metadata": {
    "id": "NLozQ_H-2WLQ"
   },
   "source": [
    "* 결정 트리 시각화 결과 모형에 어떤 문제점이 있는지 간단히 서술해주세요!"
   ]
  },
  {
   "cell_type": "code",
   "execution_count": null,
   "metadata": {
    "colab": {
     "base_uri": "https://localhost:8080/",
     "height": 1000
    },
    "id": "63xy0sb5zhGc",
    "outputId": "2e6ff8d0-9aef-41b0-afcb-718f683a0d78"
   },
   "outputs": [],
   "source": []
  },
  {
   "cell_type": "markdown",
   "metadata": {
    "id": "Lji9wC-70NlX"
   },
   "source": [
    "## 3-3.GridSearchCV 모듈을 활용해서 결정 트리의 최적 하이퍼 파라미터를 찾고 모델에 적용한 후 다시 결정 트리를 시각화해주세요!\n"
   ]
  },
  {
   "cell_type": "markdown",
   "metadata": {
    "id": "wCA06tq22LG2"
   },
   "source": [
    "* GridSeacrchCV모듈에 지정한 parameters를 사용해주세요!"
   ]
  },
  {
   "cell_type": "markdown",
   "metadata": {
    "id": "uj0gSsgy2K6y"
   },
   "source": [
    "* cv=3로 지정해주세요!\n"
   ]
  },
  {
   "cell_type": "code",
   "execution_count": null,
   "metadata": {
    "colab": {
     "base_uri": "https://localhost:8080/"
    },
    "id": "XE0vmUtGzhIt",
    "outputId": "53590186-d0b6-4ef0-f94d-6276af83bc58"
   },
   "outputs": [],
   "source": []
  },
  {
   "cell_type": "code",
   "execution_count": null,
   "metadata": {
    "colab": {
     "base_uri": "https://localhost:8080/",
     "height": 597
    },
    "id": "3LSQsPfEzhLt",
    "outputId": "e9bb3ce9-e0d5-477b-e5f9-4e9578139a70"
   },
   "outputs": [],
   "source": []
  },
  {
   "cell_type": "markdown",
   "metadata": {},
   "source": [
    "## 3-4. 결정트리에 사용된 피처들의 중요도를 파악해주세요!"
   ]
  },
  {
   "cell_type": "markdown",
   "metadata": {},
   "source": [
    "* 각 피처들의 중요도를 열 이름과 함께 출력해주세요"
   ]
  },
  {
   "cell_type": "markdown",
   "metadata": {},
   "source": [
    "* 각 피처의 중요도를 barplot을 이용해서 시각화해주세요."
   ]
  },
  {
   "cell_type": "code",
   "execution_count": 3,
   "metadata": {},
   "outputs": [],
   "source": [
    "import seaborn as sns\n",
    "import numpy as np\n",
    "%matplotlib inline"
   ]
  },
  {
   "cell_type": "code",
   "execution_count": null,
   "metadata": {},
   "outputs": [],
   "source": []
  },
  {
   "cell_type": "code",
   "execution_count": null,
   "metadata": {
    "scrolled": true
   },
   "outputs": [],
   "source": []
  },
  {
   "cell_type": "markdown",
   "metadata": {},
   "source": [
    "## 3-5. 가장 중요도가 높다고 판단되는 피처 2개를 선택하여 중요도에 따른 class의 결과값을 산점도로 나타내주세요!"
   ]
  },
  {
   "cell_type": "markdown",
   "metadata": {},
   "source": [
    "* class의 분류는 색으로 판단하며, 동그라미 마크를 사용하고, edgecolor='k'로 해주세요."
   ]
  },
  {
   "cell_type": "code",
   "execution_count": null,
   "metadata": {
    "scrolled": true
   },
   "outputs": [],
   "source": []
  },
  {
   "cell_type": "markdown",
   "metadata": {},
   "source": [
    "# 4. 주어진  'titanic_train.csv'를 GraphViz를 이용하여 결정트리의 규칙을 시각해주세요. 그리고 결정트리 생성에 미친 피처의 중요도를 막대그래프로 나타내주세요!"
   ]
  },
  {
   "cell_type": "markdown",
   "metadata": {},
   "source": [
    "* Survived 속성을 클래스 결정값 데이터 세트로 설정해주세요."
   ]
  },
  {
   "cell_type": "markdown",
   "metadata": {},
   "source": [
    "* 피처는 문자 type의 열은 제외한다."
   ]
  },
  {
   "cell_type": "markdown",
   "metadata": {},
   "source": [
    "* test data는 전체 데이터의 20%로 지정합니다."
   ]
  },
  {
   "cell_type": "markdown",
   "metadata": {},
   "source": [
    "* 과적합 방지를 위해 적절한 max_depth를 사용해주세요."
   ]
  },
  {
   "cell_type": "code",
   "execution_count": 4,
   "metadata": {},
   "outputs": [],
   "source": [
    "from sklearn.tree import DecisionTreeClassifier\n",
    "from sklearn.model_selection import train_test_split\n",
    "from sklearn.model_selection import GridSearchCV\n",
    "from sklearn.tree import export_graphviz\n",
    "import pandas as pd\n",
    "import numpy as np\n",
    "titanic=pd.read_csv('titanic_train.csv')"
   ]
  },
  {
   "cell_type": "code",
   "execution_count": null,
   "metadata": {
    "scrolled": true
   },
   "outputs": [],
   "source": []
  },
  {
   "cell_type": "code",
   "execution_count": null,
   "metadata": {
    "scrolled": true
   },
   "outputs": [],
   "source": []
  },
  {
   "cell_type": "code",
   "execution_count": null,
   "metadata": {},
   "outputs": [],
   "source": []
  },
  {
   "cell_type": "code",
   "execution_count": null,
   "metadata": {},
   "outputs": [],
   "source": []
  },
  {
   "cell_type": "code",
   "execution_count": null,
   "metadata": {},
   "outputs": [],
   "source": []
  },
  {
   "cell_type": "code",
   "execution_count": null,
   "metadata": {},
   "outputs": [],
   "source": []
  },
  {
   "cell_type": "code",
   "execution_count": null,
   "metadata": {},
   "outputs": [],
   "source": []
  }
 ],
 "metadata": {
  "colab": {
   "name": "복습과제 3번(시각화)",
   "provenance": []
  },
  "kernelspec": {
   "display_name": "Python 3",
   "language": "python",
   "name": "python3"
  },
  "language_info": {
   "codemirror_mode": {
    "name": "ipython",
    "version": 3
   },
   "file_extension": ".py",
   "mimetype": "text/x-python",
   "name": "python",
   "nbconvert_exporter": "python",
   "pygments_lexer": "ipython3",
   "version": "3.8.3"
  },
  "varInspector": {
   "cols": {
    "lenName": 16,
    "lenType": 16,
    "lenVar": 40
   },
   "kernels_config": {
    "python": {
     "delete_cmd_postfix": "",
     "delete_cmd_prefix": "del ",
     "library": "var_list.py",
     "varRefreshCmd": "print(var_dic_list())"
    },
    "r": {
     "delete_cmd_postfix": ") ",
     "delete_cmd_prefix": "rm(",
     "library": "var_list.r",
     "varRefreshCmd": "cat(var_dic_list()) "
    }
   },
   "types_to_exclude": [
    "module",
    "function",
    "builtin_function_or_method",
    "instance",
    "_Feature"
   ],
   "window_display": false
  }
 },
 "nbformat": 4,
 "nbformat_minor": 1
}
