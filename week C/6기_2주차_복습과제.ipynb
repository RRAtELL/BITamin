{
 "cells": [
  {
   "cell_type": "markdown",
   "metadata": {},
   "source": [
    "# Week2 - 복습과제"
   ]
  },
  {
   "cell_type": "markdown",
   "metadata": {},
   "source": [
    "# 문제1\n",
    "### 지역명과 분양가격으로만 이루어진 dataframe을 만들어 df에 저장해주세요!(df.head()로 확인하기!)"
   ]
  },
  {
   "cell_type": "code",
   "execution_count": 1,
   "metadata": {},
   "outputs": [],
   "source": [
    "import pandas as pd\n",
    "import numpy as np\n",
    "import warnings\n",
    "warnings.filterwarnings(\"ignore\")"
   ]
  },
  {
   "cell_type": "code",
   "execution_count": 2,
   "metadata": {},
   "outputs": [],
   "source": [
    "#(데이터파일이 주피터노트북 파일과 같은 경로에 있으면 아래와 같이 작성하면 됩니다.)\n",
    "df=pd.read_csv(\"./Q1_Q2_data.csv\",encoding='utf-8-sig') # encoding='utf-8-sig' 은 csv 파일 한글 깨짐 방지입니다. 신경 안쓰셔도 됩니다!"
   ]
  },
  {
   "cell_type": "code",
   "execution_count": null,
   "metadata": {},
   "outputs": [],
   "source": [
    "# df=df[['지역명','분양가격']]"
   ]
  },
  {
   "cell_type": "markdown",
   "metadata": {},
   "source": [
    "# 문제2\n",
    "### 위에 만들었던 문제에 이어서 '지역명'에 따른 평균분양가격을 보여주는 데이터 프레임을 만들어 df2에 저장 해주세요!\n",
    "### (열 이름을 '평균_분양가격'으로 바꿔주세요!, df2를 출력해주세요!)"
   ]
  },
  {
   "cell_type": "code",
   "execution_count": null,
   "metadata": {},
   "outputs": [],
   "source": [
    "# df.set_index(['지역명'], inplace=True)\n",
    "# a=pd.DataFrame(df.loc['서울'].mean())\n",
    "# b=pd.DataFrame(df.loc['경기'].mean())\n",
    "# c=pd.DataFrame(df.loc['인천'].mean())\n",
    "# d=pd.DataFrame(df.loc['강원'].mean())\n",
    "# e=pd.DataFrame(df.loc['충북'].mean())\n",
    "# f=pd.DataFrame(df.loc['충남'].mean())\n",
    "# g=pd.DataFrame(df.loc['대전'].mean())\n",
    "# h=pd.DataFrame(df.loc['대구'].mean())\n",
    "# i=pd.DataFrame(df.loc['경남'].mean())\n",
    "# j=pd.DataFrame(df.loc['경북'].mean())\n",
    "# k=pd.DataFrame(df.loc['전남'].mean())\n",
    "# l=pd.DataFrame(df.loc['전북'].mean())\n",
    "# m=pd.DataFrame(df.loc['광주'].mean())\n",
    "# n=pd.DataFrame(df.loc['울산'].mean())\n",
    "# o=pd.DataFrame(df.loc['부산'].mean())\n",
    "# p=pd.DataFrame(df.loc['제주'].mean())\n",
    "# q=pd.DataFrame(df.loc['세종'].mean())\n",
    "# df2=pd.concat([a,b,c,d,e,f,g,h,i,j,k,l,m,n,o,p,q])\n",
    "# df2.index=['서울','경기','인천','강원','충북','충남','대전','대구','경남','경북','전남','전북','광주','울산','부산','제주','세종']\n",
    "# df2.columns=['평균_분양가격']"
   ]
  },
  {
   "cell_type": "markdown",
   "metadata": {},
   "source": [
    "# 문제3\n",
    "### case.csv 데이터를 활용하여 다음 3가지 조건을 모두 만족하는 case 데이터를 출력해주세요.\n",
    "- 발생 지역(province)이 'Seoul' 또는 'Daegu'\n",
    "- 특정 집단과 관련되어 있다(group=True)"
   ]
  },
  {
   "cell_type": "code",
   "execution_count": 3,
   "metadata": {},
   "outputs": [],
   "source": [
    "#데이터파일 3개를 각자의 경로에 맞게 데이터프레임으로 읽어옵니다.\n",
    "#(데이터파일이 주피터노트북 파일과 같은 경로에 있으면 아래와 같이 작성하면 됩니다.)\n",
    "case_df= pd.read_csv('./Case.csv')\n",
    "patient_df = pd.read_csv('./PatientInfo.csv')\n",
    "route_df= pd.read_csv('./PatientRoute.csv')"
   ]
  },
  {
   "cell_type": "code",
   "execution_count": 4,
   "metadata": {},
   "outputs": [],
   "source": [
    "#3가지 조건에 해당하자 변수 생성(연산자 우선순위가 &>| 이기 때문에 이 점 주의해주세요)\n",
    "# str_expr=\"((province=='Seoul')or(province=='Daegu'))and(group==True)\"\n",
    "# case=case_df.query(str_expr)\n",
    "# case"
   ]
  },
  {
   "cell_type": "markdown",
   "metadata": {},
   "source": [
    "# 문제4\n",
    "### 같은 데이터를 query문을 활용하여 다음 조건들을 만족하는 case 데이터를 출력해주세요.\n",
    "- 발생 지역(province)이 'Seoul'이 아니다.\n",
    "- 확진자수(confirmed)가 10명 이상이다."
   ]
  },
  {
   "cell_type": "code",
   "execution_count": null,
   "metadata": {},
   "outputs": [],
   "source": [
    "# str_expr=\"(province!='Seoul')and(confirmed>=10)\"\n",
    "# case=case_df.query(str_expr)\n",
    "# case"
   ]
  },
  {
   "cell_type": "markdown",
   "metadata": {},
   "source": [
    "# 문제5\n",
    "### (1) patient_df와 route_df를 patient_id열을 기준으로 데이터가 공통으로 존재하는 교집합일 경우들을 추출해 병합해주세요!\n",
    "\n",
    "### mdf로 저장한 다음 mdf.head()로 확인하기!"
   ]
  },
  {
   "cell_type": "code",
   "execution_count": null,
   "metadata": {},
   "outputs": [],
   "source": [
    "# mdf=pd.merge(patient_df, route_df, how='inner', on='patient_id')"
   ]
  },
  {
   "cell_type": "markdown",
   "metadata": {},
   "source": [
    "### (2) 'sex'열을 기준으로 그룹화한 다음, agg()를 이용해서 성별 별로 가장 빨리 코로나에 걸린 날짜('date'열)와 가장 많은 접촉자 수('contact_number'열)를 구해주세요!"
   ]
  },
  {
   "cell_type": "code",
   "execution_count": null,
   "metadata": {},
   "outputs": [],
   "source": [
    "# mdf_groupby=mdf.groupby('sex').count()\n",
    "# mdf_groupby\n",
    "# agg_format={'contact_number':'max', 'date':'min'}\n",
    "# mdf.groupby('sex').agg(agg_format)"
   ]
  }
 ],
 "metadata": {
  "kernelspec": {
   "display_name": "Python 3",
   "language": "python",
   "name": "python3"
  },
  "language_info": {
   "codemirror_mode": {
    "name": "ipython",
    "version": 3
   },
   "file_extension": ".py",
   "mimetype": "text/x-python",
   "name": "python",
   "nbconvert_exporter": "python",
   "pygments_lexer": "ipython3",
   "version": "3.8.3"
  }
 },
 "nbformat": 4,
 "nbformat_minor": 2
}
