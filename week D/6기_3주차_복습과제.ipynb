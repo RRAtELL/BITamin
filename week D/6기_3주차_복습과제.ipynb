{
 "cells": [
  {
   "cell_type": "markdown",
   "metadata": {},
   "source": [
    "#                                     Week3 - 복습과제"
   ]
  },
  {
   "cell_type": "markdown",
   "metadata": {},
   "source": [
    "## 문제1."
   ]
  },
  {
   "cell_type": "markdown",
   "metadata": {},
   "source": [
    "### 문제 1-1.\n",
    "#### bmi = 체중(kg) / 신장(m)²입니다. 이 공식을 바탕으로 체중을 계산하여 새로운 열(weight)로 추가한 후 소수점 아래 첫째 자리까지 반올림한 후 상위 10개 데이터를 출력해주세요.\n",
    "#### 힌트 1) 데이터 속의 신장은 cm 단위이지만 bmi를 계산하기 위해서는 m 단위의 신장이 필요합니다.             \n",
    "#### 힌트 2) 파이썬은 x의 y제곱을 x**y로 나타낼 수 있습니다.\n"
   ]
  },
  {
   "cell_type": "code",
   "execution_count": 2,
   "metadata": {},
   "outputs": [],
   "source": [
    "import pandas as pd\n",
    "import numpy as np\n",
    "\n",
    "df = pd.read_csv('insurance.csv')"
   ]
  },
  {
   "cell_type": "code",
   "execution_count": 4,
   "metadata": {},
   "outputs": [],
   "source": [
    "df['height']=df['height']/100"
   ]
  },
  {
   "cell_type": "code",
   "execution_count": 6,
   "metadata": {},
   "outputs": [],
   "source": [
    "df['weight']=df['bmi']*(df['height']**2)"
   ]
  },
  {
   "cell_type": "markdown",
   "metadata": {},
   "source": [
    "### 문제 1-2.\n",
    "#### 체중을 5개의 구간으로 나눈 후 각 구간의 경계값을 출력해주세요. 또 각 경계값에 '완전 과체중, 과체중, 보통체중, 저체중, 과한 저체중' 다섯 개의 이름으로 저장한 후 체중과 경계값의 첫 15개 행을 함께 출력해주세요."
   ]
  },
  {
   "cell_type": "code",
   "execution_count": 10,
   "metadata": {},
   "outputs": [
    {
     "data": {
      "text/html": [
       "<div>\n",
       "<style scoped>\n",
       "    .dataframe tbody tr th:only-of-type {\n",
       "        vertical-align: middle;\n",
       "    }\n",
       "\n",
       "    .dataframe tbody tr th {\n",
       "        vertical-align: top;\n",
       "    }\n",
       "\n",
       "    .dataframe thead th {\n",
       "        text-align: right;\n",
       "    }\n",
       "</style>\n",
       "<table border=\"1\" class=\"dataframe\">\n",
       "  <thead>\n",
       "    <tr style=\"text-align: right;\">\n",
       "      <th></th>\n",
       "      <th>weight</th>\n",
       "      <th>weight_bin</th>\n",
       "    </tr>\n",
       "  </thead>\n",
       "  <tbody>\n",
       "    <tr>\n",
       "      <th>0</th>\n",
       "      <td>70.533990</td>\n",
       "      <td>과체중</td>\n",
       "    </tr>\n",
       "    <tr>\n",
       "      <th>1</th>\n",
       "      <td>106.996868</td>\n",
       "      <td>보통체중</td>\n",
       "    </tr>\n",
       "    <tr>\n",
       "      <th>2</th>\n",
       "      <td>111.724800</td>\n",
       "      <td>보통체중</td>\n",
       "    </tr>\n",
       "    <tr>\n",
       "      <th>3</th>\n",
       "      <td>73.564200</td>\n",
       "      <td>과체중</td>\n",
       "    </tr>\n",
       "    <tr>\n",
       "      <th>4</th>\n",
       "      <td>88.445000</td>\n",
       "      <td>과체중</td>\n",
       "    </tr>\n",
       "    <tr>\n",
       "      <th>5</th>\n",
       "      <td>71.786286</td>\n",
       "      <td>과체중</td>\n",
       "    </tr>\n",
       "    <tr>\n",
       "      <th>6</th>\n",
       "      <td>67.428416</td>\n",
       "      <td>완전과체중</td>\n",
       "    </tr>\n",
       "    <tr>\n",
       "      <th>7</th>\n",
       "      <td>64.090496</td>\n",
       "      <td>완전과체중</td>\n",
       "    </tr>\n",
       "    <tr>\n",
       "      <th>8</th>\n",
       "      <td>93.454407</td>\n",
       "      <td>과체중</td>\n",
       "    </tr>\n",
       "    <tr>\n",
       "      <th>9</th>\n",
       "      <td>59.700736</td>\n",
       "      <td>완전과체중</td>\n",
       "    </tr>\n",
       "    <tr>\n",
       "      <th>10</th>\n",
       "      <td>80.298750</td>\n",
       "      <td>과체중</td>\n",
       "    </tr>\n",
       "    <tr>\n",
       "      <th>11</th>\n",
       "      <td>73.320181</td>\n",
       "      <td>과체중</td>\n",
       "    </tr>\n",
       "    <tr>\n",
       "      <th>12</th>\n",
       "      <td>111.456000</td>\n",
       "      <td>보통체중</td>\n",
       "    </tr>\n",
       "    <tr>\n",
       "      <th>13</th>\n",
       "      <td>82.570752</td>\n",
       "      <td>과체중</td>\n",
       "    </tr>\n",
       "    <tr>\n",
       "      <th>14</th>\n",
       "      <td>153.694453</td>\n",
       "      <td>저체중</td>\n",
       "    </tr>\n",
       "  </tbody>\n",
       "</table>\n",
       "</div>"
      ],
      "text/plain": [
       "        weight weight_bin\n",
       "0    70.533990        과체중\n",
       "1   106.996868       보통체중\n",
       "2   111.724800       보통체중\n",
       "3    73.564200        과체중\n",
       "4    88.445000        과체중\n",
       "5    71.786286        과체중\n",
       "6    67.428416      완전과체중\n",
       "7    64.090496      완전과체중\n",
       "8    93.454407        과체중\n",
       "9    59.700736      완전과체중\n",
       "10   80.298750        과체중\n",
       "11   73.320181        과체중\n",
       "12  111.456000       보통체중\n",
       "13   82.570752        과체중\n",
       "14  153.694453        저체중"
      ]
     },
     "execution_count": 10,
     "metadata": {},
     "output_type": "execute_result"
    }
   ],
   "source": [
    "count, bin_dividers=np.histogram(df['weight'], bins=5)\n",
    "bin_names=['완전과체중','과체중','보통체중','저체중','과한저체중']\n",
    "df['weight_bin']=pd.cut(x=df['weight'], bins=bin_dividers,labels=bin_names, include_lowest=True)\n",
    "df[['weight', 'weight_bin']].head(15)"
   ]
  },
  {
   "cell_type": "markdown",
   "metadata": {},
   "source": [
    "## 문제2."
   ]
  },
  {
   "cell_type": "markdown",
   "metadata": {},
   "source": [
    "### 문제 2-1.\n",
    "#### insurance.csv파일 내 숫자형 데이터 피처의 평균과 분산을 확인하고 표준화를 진행해주세요! \n",
    "#### 표준화된 데이터 피처의 평균과 분산을 결과값으로 출력해주세요! StandardScaler를 활용해주세요! 1번에서 사용하신 df를 그대로 사용하시면 됩니다!"
   ]
  },
  {
   "cell_type": "code",
   "execution_count": 17,
   "metadata": {},
   "outputs": [],
   "source": [
    "from sklearn.preprocessing import StandardScaler"
   ]
  },
  {
   "cell_type": "code",
   "execution_count": 39,
   "metadata": {},
   "outputs": [],
   "source": [
    "ndf=df.drop(['sex', 'smoker','region', 'weight_bin'], axis=1)"
   ]
  },
  {
   "cell_type": "code",
   "execution_count": 47,
   "metadata": {},
   "outputs": [
    {
     "data": {
      "text/plain": [
       "0    1.000748\n",
       "1    1.000748\n",
       "2    1.000748\n",
       "3    1.000748\n",
       "4    1.000748\n",
       "5    1.000748\n",
       "dtype: float64"
      ]
     },
     "execution_count": 47,
     "metadata": {},
     "output_type": "execute_result"
    }
   ],
   "source": [
    "scaler=StandardScaler()\n",
    "scaler.fit(ndf)\n",
    "ndf_scaled=scaler.transform(ndf)\n",
    "ndf_scaled=pd.DataFrame(data=ndf_scaled)\n",
    "ndf_sclaed.mean()\n",
    "ndf_scaled.var()"
   ]
  },
  {
   "cell_type": "markdown",
   "metadata": {},
   "source": [
    "### 문제 2-2.\n",
    "#### insurance.csv파일 내 숫자형 데이터 피처의 정규화를 지시에 따라 진행해주세요! 정규화된 데이터 피처의 최댓값과 최솟값을 결과값으로 출력해주세요"
   ]
  },
  {
   "cell_type": "markdown",
   "metadata": {},
   "source": [
    "#### 2-2-1.\n",
    "#### MinMaxScaler로 정규화 작업을 진행해주세요"
   ]
  },
  {
   "cell_type": "code",
   "execution_count": 52,
   "metadata": {},
   "outputs": [],
   "source": [
    "from sklearn.preprocessing import MinMaxScaler"
   ]
  },
  {
   "cell_type": "code",
   "execution_count": 59,
   "metadata": {},
   "outputs": [
    {
     "data": {
      "text/plain": [
       "0    0.0\n",
       "1    0.0\n",
       "2    0.0\n",
       "3    0.0\n",
       "4    0.0\n",
       "5    0.0\n",
       "dtype: float64"
      ]
     },
     "execution_count": 59,
     "metadata": {},
     "output_type": "execute_result"
    }
   ],
   "source": [
    "scaler=MinMaxScaler()\n",
    "scaler.fit(ndf)\n",
    "ndf_scaled=scaler.transform(ndf)\n",
    "ndf_scaled=pd.DataFrame(data=ndf_scaled)\n",
    "ndf_scaled.max()\n",
    "ndf_scaled.min()"
   ]
  },
  {
   "cell_type": "markdown",
   "metadata": {},
   "source": [
    "#### 문제 2-2-2.\n",
    "##### 각 열의 최댓값의 절대값으로 각 열 데이터를 나눠주는 방법으로 정규화 작업을 진행해주세요!"
   ]
  },
  {
   "cell_type": "code",
   "execution_count": 61,
   "metadata": {},
   "outputs": [
    {
     "data": {
      "text/plain": [
       "age         0.281250\n",
       "bmi         0.300395\n",
       "height      0.729167\n",
       "children    0.000000\n",
       "charges     0.017592\n",
       "weight      0.190094\n",
       "dtype: float64"
      ]
     },
     "execution_count": 61,
     "metadata": {},
     "output_type": "execute_result"
    }
   ],
   "source": [
    "ndf_abs_scaled=ndf/abs(ndf.max())\n",
    "ndf_abs_scaled.max()\n",
    "ndf_abs_scaled.min()"
   ]
  },
  {
   "cell_type": "markdown",
   "metadata": {},
   "source": [
    "#### 문제2-2-3.\n",
    "##### 벡터 정규화를 진행해주세요! 정규화된 데이터 프레임의 Norm을 추가로 출력해주세요!"
   ]
  },
  {
   "cell_type": "code",
   "execution_count": 63,
   "metadata": {},
   "outputs": [],
   "source": [
    "an_array=np.random.rand(10)*10\n",
    "norm=np.linalg.norm(an_array)\n",
    "normal_array=an_array/norm"
   ]
  },
  {
   "cell_type": "code",
   "execution_count": 65,
   "metadata": {},
   "outputs": [
    {
     "data": {
      "text/plain": [
       "age         0.000027\n",
       "bmi         0.000024\n",
       "height      0.000002\n",
       "children    0.000000\n",
       "charges     0.001707\n",
       "weight      0.000057\n",
       "dtype: float64"
      ]
     },
     "execution_count": 65,
     "metadata": {},
     "output_type": "execute_result"
    }
   ],
   "source": [
    "ndf_vector_scaled=ndf/np.linalg.norm(ndf)\n",
    "ndf_vector_scaled.max()\n",
    "ndf_vector_scaled.min()"
   ]
  },
  {
   "cell_type": "markdown",
   "metadata": {},
   "source": [
    "## 문제3."
   ]
  },
  {
   "cell_type": "markdown",
   "metadata": {},
   "source": [
    "### 문제 3-1.\n",
    "#### credit.csv 파일을 dataframe으로 읽은 후, unknown 값을 NaN으로 바꿔주세요."
   ]
  },
  {
   "cell_type": "code",
   "execution_count": 66,
   "metadata": {},
   "outputs": [],
   "source": [
    "import pandas as pd\n",
    "import numpy as np\n",
    "\n",
    "df = pd.read_csv('credit.csv')"
   ]
  },
  {
   "cell_type": "code",
   "execution_count": 68,
   "metadata": {},
   "outputs": [],
   "source": [
    "df.replace('unknown', np.nan, inplace=True)"
   ]
  },
  {
   "cell_type": "markdown",
   "metadata": {},
   "source": [
    "### 문제 3-2.\n",
    "#### 각 column의 누락 데이터 수를 확인(try & except문) 한 후에, checking_balance 누락 값은 해당 열에서 가장 많이 나타나는 값으로 바꾸고, savings_balance 누락 값은 이웃하고 있는 바로 다음 행 값으로 바꾼다."
   ]
  },
  {
   "cell_type": "code",
   "execution_count": 75,
   "metadata": {},
   "outputs": [],
   "source": [
    "missing_df=df.isnull()\n",
    "for col in missing_df.columns:\n",
    "    missing_count=missing_df[col].value_counts()\n",
    "    \n",
    "    try:\n",
    "        print(col, ':', missing_count[True])\n",
    "    except:\n",
    "        print(col, ':', 0)"
   ]
  },
  {
   "cell_type": "code",
   "execution_count": 74,
   "metadata": {},
   "outputs": [],
   "source": [
    "most_freq=df['checking_balance'].value_counts(dropna=True).idxmax()\n",
    "df['checking_balance'].fillna(most_freq, inplace=True)\n",
    "df['savings_balance'].fillna(method='bfill', inplace=True)"
   ]
  },
  {
   "cell_type": "markdown",
   "metadata": {},
   "source": [
    "## 문제4.\n",
    "### credit데이터를 불러와서 원-핫인코딩하기\n",
    "\n"
   ]
  },
  {
   "cell_type": "markdown",
   "metadata": {},
   "source": [
    "### 4-1. credit 데이터의 'credit_history'피처를 사이킷런의 머신러닝알고리즘을 통해 인코딩해보세요\n"
   ]
  },
  {
   "cell_type": "markdown",
   "metadata": {},
   "source": [
    "#### 4-1-1. 먼저, 숫자값으로의 변환을 위해 레이블인코딩하기"
   ]
  },
  {
   "cell_type": "markdown",
   "metadata": {},
   "source": [
    "* credit_data에 파일을 불러온 뒤 credit_data1에 'credit_history'피처만 저장 후 인코딩\n",
    "* 어떤 데이터가 어떻게 인코딩되었는지 나타내기(classes_ 사용하세요)\n",
    "* 변환된 데이터 값 출력"
   ]
  },
  {
   "cell_type": "code",
   "execution_count": 90,
   "metadata": {},
   "outputs": [],
   "source": [
    "from sklearn.preprocessing import LabelEncoder\n",
    "df=pd.read_csv('credit.csv')"
   ]
  },
  {
   "cell_type": "code",
   "execution_count": 117,
   "metadata": {},
   "outputs": [],
   "source": [
    "df['credit_history']=df['credit_history'].astype('category')\n",
    "credit_data1=list(df['credit_history'].unique())"
   ]
  },
  {
   "cell_type": "code",
   "execution_count": 126,
   "metadata": {},
   "outputs": [
    {
     "name": "stdout",
     "output_type": "stream",
     "text": [
      "['critical', 'good', 'poor', 'perfect', 'very good']\n",
      "['critical' 'good' 'perfect' 'poor' 'very good']\n",
      "인코딩 변환값: [0 1 3 2 4]\n"
     ]
    }
   ],
   "source": [
    "encoder=LabelEncoder()\n",
    "encoder.fit(credit_data1)\n",
    "labels=encoder.transform(credit_data1)\n",
    "print(credit_data1)\n",
    "print(encoder.classes_)\n",
    "print('인코딩 변환값:', labels)"
   ]
  },
  {
   "cell_type": "markdown",
   "metadata": {},
   "source": [
    "#### 4-1-2. 원핫인코딩 하기"
   ]
  },
  {
   "cell_type": "markdown",
   "metadata": {},
   "source": [
    "* 변환된 데이터값 출력\n",
    "* 원본데이터가 몇 행 몇 열의 데이터로 변환되었는지 나타내기"
   ]
  },
  {
   "cell_type": "code",
   "execution_count": 157,
   "metadata": {},
   "outputs": [
    {
     "data": {
      "text/plain": [
       "array([[0],\n",
       "       [1],\n",
       "       [3],\n",
       "       [2],\n",
       "       [4]], dtype=int64)"
      ]
     },
     "execution_count": 157,
     "metadata": {},
     "output_type": "execute_result"
    }
   ],
   "source": [
    "from sklearn.preprocessing import OneHotEncoder\n",
    "import pandas as pd\n",
    "credit_data = data=pd.read_csv('./credit.csv')\n",
    "encoder=LabelEncoder()\n",
    "encoder.fit(credit_data1)\n",
    "labels=encoder.transform(credit_data1)\n",
    "labels=labels.reshape(-1,1)\n",
    "labels"
   ]
  },
  {
   "cell_type": "code",
   "execution_count": 161,
   "metadata": {},
   "outputs": [
    {
     "name": "stdout",
     "output_type": "stream",
     "text": [
      "[[1. 0. 0. 0. 0.]\n",
      " [0. 1. 0. 0. 0.]\n",
      " [0. 0. 0. 1. 0.]\n",
      " [0. 0. 1. 0. 0.]\n",
      " [0. 0. 0. 0. 1.]]\n",
      "(5, 5)\n"
     ]
    }
   ],
   "source": [
    "oh_encoder=OneHotEncoder()\n",
    "oh_encoder.fit(labels)\n",
    "oh_labels=oh_encoder.transform(labels)\n",
    "print(oh_labels.toarray())\n",
    "print(oh_labels.shape)"
   ]
  },
  {
   "cell_type": "markdown",
   "metadata": {},
   "source": [
    "### 4-2. credit 데이터의 'default'피처를 판다스 API를 통해 인코딩해보세요"
   ]
  },
  {
   "cell_type": "code",
   "execution_count": 172,
   "metadata": {},
   "outputs": [
    {
     "data": {
      "text/html": [
       "<div>\n",
       "<style scoped>\n",
       "    .dataframe tbody tr th:only-of-type {\n",
       "        vertical-align: middle;\n",
       "    }\n",
       "\n",
       "    .dataframe tbody tr th {\n",
       "        vertical-align: top;\n",
       "    }\n",
       "\n",
       "    .dataframe thead th {\n",
       "        text-align: right;\n",
       "    }\n",
       "</style>\n",
       "<table border=\"1\" class=\"dataframe\">\n",
       "  <thead>\n",
       "    <tr style=\"text-align: right;\">\n",
       "      <th></th>\n",
       "      <th>default_no</th>\n",
       "      <th>default_yes</th>\n",
       "    </tr>\n",
       "  </thead>\n",
       "  <tbody>\n",
       "    <tr>\n",
       "      <th>0</th>\n",
       "      <td>1</td>\n",
       "      <td>0</td>\n",
       "    </tr>\n",
       "    <tr>\n",
       "      <th>1</th>\n",
       "      <td>0</td>\n",
       "      <td>1</td>\n",
       "    </tr>\n",
       "    <tr>\n",
       "      <th>2</th>\n",
       "      <td>1</td>\n",
       "      <td>0</td>\n",
       "    </tr>\n",
       "    <tr>\n",
       "      <th>3</th>\n",
       "      <td>1</td>\n",
       "      <td>0</td>\n",
       "    </tr>\n",
       "    <tr>\n",
       "      <th>4</th>\n",
       "      <td>0</td>\n",
       "      <td>1</td>\n",
       "    </tr>\n",
       "    <tr>\n",
       "      <th>...</th>\n",
       "      <td>...</td>\n",
       "      <td>...</td>\n",
       "    </tr>\n",
       "    <tr>\n",
       "      <th>995</th>\n",
       "      <td>1</td>\n",
       "      <td>0</td>\n",
       "    </tr>\n",
       "    <tr>\n",
       "      <th>996</th>\n",
       "      <td>1</td>\n",
       "      <td>0</td>\n",
       "    </tr>\n",
       "    <tr>\n",
       "      <th>997</th>\n",
       "      <td>1</td>\n",
       "      <td>0</td>\n",
       "    </tr>\n",
       "    <tr>\n",
       "      <th>998</th>\n",
       "      <td>0</td>\n",
       "      <td>1</td>\n",
       "    </tr>\n",
       "    <tr>\n",
       "      <th>999</th>\n",
       "      <td>1</td>\n",
       "      <td>0</td>\n",
       "    </tr>\n",
       "  </tbody>\n",
       "</table>\n",
       "<p>1000 rows × 2 columns</p>\n",
       "</div>"
      ],
      "text/plain": [
       "     default_no  default_yes\n",
       "0             1            0\n",
       "1             0            1\n",
       "2             1            0\n",
       "3             1            0\n",
       "4             0            1\n",
       "..          ...          ...\n",
       "995           1            0\n",
       "996           1            0\n",
       "997           1            0\n",
       "998           0            1\n",
       "999           1            0\n",
       "\n",
       "[1000 rows x 2 columns]"
      ]
     },
     "execution_count": 172,
     "metadata": {},
     "output_type": "execute_result"
    }
   ],
   "source": [
    "df=pd.read_csv('credit.csv')\n",
    "df=pd.DataFrame(df['default'])\n",
    "pd.get_dummies(df)"
   ]
  },
  {
   "cell_type": "code",
   "execution_count": null,
   "metadata": {},
   "outputs": [],
   "source": []
  }
 ],
 "metadata": {
  "kernelspec": {
   "display_name": "Python 3",
   "language": "python",
   "name": "python3"
  },
  "language_info": {
   "codemirror_mode": {
    "name": "ipython",
    "version": 3
   },
   "file_extension": ".py",
   "mimetype": "text/x-python",
   "name": "python",
   "nbconvert_exporter": "python",
   "pygments_lexer": "ipython3",
   "version": "3.8.3"
  },
  "varInspector": {
   "cols": {
    "lenName": 16,
    "lenType": 16,
    "lenVar": 40
   },
   "kernels_config": {
    "python": {
     "delete_cmd_postfix": "",
     "delete_cmd_prefix": "del ",
     "library": "var_list.py",
     "varRefreshCmd": "print(var_dic_list())"
    },
    "r": {
     "delete_cmd_postfix": ") ",
     "delete_cmd_prefix": "rm(",
     "library": "var_list.r",
     "varRefreshCmd": "cat(var_dic_list()) "
    }
   },
   "types_to_exclude": [
    "module",
    "function",
    "builtin_function_or_method",
    "instance",
    "_Feature"
   ],
   "window_display": false
  }
 },
 "nbformat": 4,
 "nbformat_minor": 4
}
