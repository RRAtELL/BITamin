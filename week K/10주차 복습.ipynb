{
  "nbformat": 4,
  "nbformat_minor": 0,
  "metadata": {
    "colab": {
      "name": "Untitled3.ipynb",
      "provenance": []
    },
    "kernelspec": {
      "name": "python3",
      "display_name": "Python 3"
    }
  },
  "cells": [
    {
      "cell_type": "code",
      "metadata": {
        "id": "wow9JkINVqRE"
      },
      "source": [
        "from sklearn.neighbors import KNeighborsClassifier\r\n",
        "import numpy as np\r\n",
        "import pandas as pd\r\n",
        "import matplotlib.pyplot as plt\r\n",
        "import seaborn as sns; sns.set(font_scale=1.3)\r\n",
        "%matplotlib inline\r\n",
        "import warnings\r\n",
        "warnings.filterwarnings('ignore')"
      ],
      "execution_count": 1,
      "outputs": []
    },
    {
      "cell_type": "code",
      "metadata": {
        "colab": {
          "base_uri": "https://localhost:8080/",
          "height": 568
        },
        "id": "KKjsBFaQYLue",
        "outputId": "0f58a112-a5d8-40f8-ed36-5911ea19f8a4"
      },
      "source": [
        "X=pd.DataFrame([[1,1],[2,3],[4,3],[10,8]], columns=['ax1','ax2'])\r\n",
        "y=pd.DataFrame(['a','a','b','b'], columns=['type'])\r\n",
        "\r\n",
        "knn=KNeighborsClassifier(n_neighbors=3)\r\n",
        "knn.fit(X, y)\r\n",
        "\r\n",
        "X_test=pd.DataFrame([[2,7],[5,4]], columns=['ax1','ax2'])\r\n",
        "pred=knn.predict(X_test)\r\n",
        "print('분류 : ', pred, '\\n')\r\n",
        "print(knn.kneighbors(X_test, 4))\r\n",
        "\r\n",
        "from math import sqrt\r\n",
        "print('test_data(2,7)와 (10,8)data와의 거리 : ', sqrt((2-10)**2+(7-8)**2))\r\n",
        "sample=pd.concat([X.join(y), X_test])\r\n",
        "sample.reset_index(inplace=True)\r\n",
        "sample.drop('index', axis=1, inplace=True)\r\n",
        "sample.fillna('u', inplace=True)\r\n",
        "\r\n",
        "sns.lmplot('ax1','ax2',data=sample, hue='type', fit_reg=False);\r\n",
        "\r\n",
        "print('\\n')\r\n",
        "print(knn.predict_proba(X_test))"
      ],
      "execution_count": 2,
      "outputs": [
        {
          "output_type": "stream",
          "text": [
            "분류 :  ['a' 'a'] \n",
            "\n",
            "(array([[4.        , 4.47213595, 6.08276253, 8.06225775],\n",
            "       [1.41421356, 3.16227766, 5.        , 6.40312424]]), array([[1, 2, 0, 3],\n",
            "       [2, 1, 0, 3]]))\n",
            "test_data(2,7)와 (10,8)data와의 거리 :  8.06225774829855\n",
            "\n",
            "\n",
            "[[0.66666667 0.33333333]\n",
            " [0.66666667 0.33333333]]\n"
          ],
          "name": "stdout"
        },
        {
          "output_type": "display_data",
          "data": {
            "image/png": "[encoded data removed]",
            "text/plain": [
              "<Figure size 420.605x360 with 1 Axes>"
            ]
          },
          "metadata": {
            "tags": [],
            "needs_background": "light"
          }
        }
      ]
    },
    {
      "cell_type": "code",
      "metadata": {
        "colab": {
          "base_uri": "https://localhost:8080/",
          "height": 550
        },
        "id": "mHDROegWYN9s",
        "outputId": "3886f48d-6323-4ad8-a380-963a373defd6"
      },
      "source": [
        "knn=KNeighborsClassifier(n_neighbors=3, weights='uniform', metric='manhattan')\r\n",
        "knn.fit(X, y)\r\n",
        "\r\n",
        "X_test=pd.DataFrame([[2,7],[5,4]], columns=['ax1','ax2'])\r\n",
        "pred=knn.predict(X_test)\r\n",
        "print('분류 : ', pred, '\\n')\r\n",
        "\r\n",
        "print(knn.kneighbors(X_test, 4))\r\n",
        "\r\n",
        "sample=pd.concat([X.join(y), X_test.join(pd.DataFrame(pred, columns=['type']))])\r\n",
        "sample.reset_index(inplace=True)\r\n",
        "sample.drop('index', axis=1, inplace=True)\r\n",
        "sample.fillna('u', inplace=True)\r\n",
        "\r\n",
        "sns.lmplot('ax1','ax2',data=sample, hue='type', fit_reg=False);\r\n",
        "\r\n",
        "print('\\n')\r\n",
        "print(knn.predict_proba(X_test))"
      ],
      "execution_count": 3,
      "outputs": [
        {
          "output_type": "stream",
          "text": [
            "분류 :  ['a' 'a'] \n",
            "\n",
            "(array([[4., 6., 7., 9.],\n",
            "       [2., 4., 7., 9.]]), array([[1, 2, 0, 3],\n",
            "       [2, 1, 0, 3]]))\n",
            "\n",
            "\n",
            "[[0.66666667 0.33333333]\n",
            " [0.66666667 0.33333333]]\n"
          ],
          "name": "stdout"
        },
        {
          "output_type": "display_data",
          "data": {
            "image/png": "[encoded data removed]",
            "text/plain": [
              "<Figure size 420.48x360 with 1 Axes>"
            ]
          },
          "metadata": {
            "tags": [],
            "needs_background": "light"
          }
        }
      ]
    },
    {
      "cell_type": "code",
      "metadata": {
        "colab": {
          "base_uri": "https://localhost:8080/",
          "height": 550
        },
        "id": "SfNhFJpoYPjK",
        "outputId": "97d61d55-8f5e-4a3c-93bc-bcfaec2a7ea2"
      },
      "source": [
        "knn=KNeighborsClassifier(n_neighbors=3, weights='uniform', metric='manhattan')\r\n",
        "knn.fit(X, y)\r\n",
        "\r\n",
        "X_test=pd.DataFrame([[2,7],[5,4]], columns=['ax1','ax2'])\r\n",
        "pred=knn.predict(X_test)\r\n",
        "print('분류 : ', pred, '\\n')\r\n",
        "\r\n",
        "print(knn.kneighbors(X_test, 4))\r\n",
        "\r\n",
        "sample=pd.concat([X.join(y), X_test.join(pd.DataFrame(pred, columns=['type']))])\r\n",
        "sample.reset_index(inplace=True)\r\n",
        "sample.drop('index', axis=1, inplace=True)\r\n",
        "sample.fillna('u', inplace=True)\r\n",
        "\r\n",
        "sns.lmplot('ax1','ax2',data=sample, hue='type', fit_reg=False);\r\n",
        "\r\n",
        "print('\\n')\r\n",
        "print(knn.predict_proba(X_test))"
      ],
      "execution_count": 4,
      "outputs": [
        {
          "output_type": "stream",
          "text": [
            "분류 :  ['a' 'a'] \n",
            "\n",
            "(array([[4., 6., 7., 9.],\n",
            "       [2., 4., 7., 9.]]), array([[1, 2, 0, 3],\n",
            "       [2, 1, 0, 3]]))\n",
            "\n",
            "\n",
            "[[0.66666667 0.33333333]\n",
            " [0.66666667 0.33333333]]\n"
          ],
          "name": "stdout"
        },
        {
          "output_type": "display_data",
          "data": {
            "image/png": "[encoded data removed]",
            "text/plain": [
              "<Figure size 420.48x360 with 1 Axes>"
            ]
          },
          "metadata": {
            "tags": [],
            "needs_background": "light"
          }
        }
      ]
    },
    {
      "cell_type": "code",
      "metadata": {
        "colab": {
          "base_uri": "https://localhost:8080/",
          "height": 550
        },
        "id": "zLlyaQvGYRfH",
        "outputId": "6f123aa6-8def-4975-b344-69eef41d3214"
      },
      "source": [
        "knn=KNeighborsClassifier(n_neighbors=2)\r\n",
        "knn.fit(X, y)\r\n",
        "\r\n",
        "X_test=pd.DataFrame([[2,7],[5,4]], columns=['ax1','ax2'])\r\n",
        "pred=knn.predict(X_test)\r\n",
        "print('분류 : ', pred, '\\n')\r\n",
        "\r\n",
        "print(knn.kneighbors(X_test, 4))\r\n",
        "\r\n",
        "sample=pd.concat([X.join(y), X_test.join(pd.DataFrame(pred, columns=['type']))])\r\n",
        "sample.reset_index(inplace=True)\r\n",
        "sample.drop('index', axis=1, inplace=True)\r\n",
        "sample.fillna('u', inplace=True)\r\n",
        "\r\n",
        "sns.lmplot('ax1','ax2',data=sample, hue='type', fit_reg=False);\r\n",
        "\r\n",
        "print('\\n')\r\n",
        "print(knn.predict_proba(X_test))"
      ],
      "execution_count": 5,
      "outputs": [
        {
          "output_type": "stream",
          "text": [
            "분류 :  ['a' 'a'] \n",
            "\n",
            "(array([[4.        , 4.47213595, 6.08276253, 8.06225775],\n",
            "       [1.41421356, 3.16227766, 5.        , 6.40312424]]), array([[1, 2, 0, 3],\n",
            "       [2, 1, 0, 3]]))\n",
            "\n",
            "\n",
            "[[0.5 0.5]\n",
            " [0.5 0.5]]\n"
          ],
          "name": "stdout"
        },
        {
          "output_type": "display_data",
          "data": {
            "image/png": "[encoded data removed]",
            "text/plain": [
              "<Figure size 420.48x360 with 1 Axes>"
            ]
          },
          "metadata": {
            "tags": [],
            "needs_background": "light"
          }
        }
      ]
    },
    {
      "cell_type": "code",
      "metadata": {
        "colab": {
          "base_uri": "https://localhost:8080/",
          "height": 295
        },
        "id": "WzhG0lY_YTTp",
        "outputId": "27a1da8a-f6eb-49ff-ba25-6f3973eb8730"
      },
      "source": [
        "from sklearn.datasets import make_blobs\r\n",
        "from matplotlib import pyplot as plt\r\n",
        "\r\n",
        "X, y=make_blobs(n_samples=300, n_features=2, centers=2, random_state=3, cluster_std=1)\r\n",
        "\r\n",
        "y=2*y-1\r\n",
        "\r\n",
        "plt.scatter(X[y==-1, 0], X[y==-1, 1], marker='o', label='-1')\r\n",
        "plt.scatter(X[y==+1, 0], X[y==+1, 1], marker='x', label='+1')\r\n",
        "plt.xlabel('$X_1$')\r\n",
        "plt.ylabel('$X_2$')\r\n",
        "plt.legend()\r\n",
        "plt.show()"
      ],
      "execution_count": 6,
      "outputs": [
        {
          "output_type": "display_data",
          "data": {
            "image/png": "[encoded data removed]",
            "text/plain": [
              "<Figure size 432x288 with 1 Axes>"
            ]
          },
          "metadata": {
            "tags": [],
            "needs_background": "light"
          }
        }
      ]
    },
    {
      "cell_type": "code",
      "metadata": {
        "colab": {
          "base_uri": "https://localhost:8080/",
          "height": 309
        },
        "id": "Hrt5VOY_YUss",
        "outputId": "25c84d05-46ef-44c8-fbd2-621570ba9603"
      },
      "source": [
        "from sklearn.svm import SVC\r\n",
        "import numpy as np\r\n",
        "\r\n",
        "model=SVC(kernel='linear', C=0.1).fit(X,y)\r\n",
        "\r\n",
        "xmin=X[:, 0].min()\r\n",
        "xmax=X[:, 0].max()\r\n",
        "ymin=X[:, 1].min()\r\n",
        "ymax=X[:, 1].max()\r\n",
        "\r\n",
        "xx=np.linspace(xmin, xmax, 10)\r\n",
        "yy=np.linspace(ymin, ymax, 10)\r\n",
        "X1, X2=np.meshgrid(xx, yy)\r\n",
        "\r\n",
        "Z=np.empty(X1.shape)\r\n",
        "for (i, j), val in np.ndenumerate(X1):\r\n",
        "    x1=val\r\n",
        "    x2=X2[i, j]\r\n",
        "    p=model.decision_function([[x1,x2]])\r\n",
        "    Z[i, j]=p[0]\r\n",
        "\r\n",
        "levels=[-1, 0, 1]\r\n",
        "linestyles=['dashed','solid','dashed']\r\n",
        "plt.scatter(X[y==-1, 0], X[y==-1, 1], marker='o', label='-1')\r\n",
        "plt.scatter(X[y==+1, 0], X[y==+1, 1], marker='x', label='+1')\r\n",
        "plt.contour(X1, X2, Z, levels, colors='k', linestyles=linestyles)\r\n",
        "plt.scatter(model.support_vectors_[:,0], model.support_vectors_[:, 1], s=300, alpha=0.3)\r\n",
        "\r\n",
        "plt.xlabel('x1')\r\n",
        "plt.ylabel('x2')\r\n",
        "plt.legend()\r\n",
        "plt.title('SVM Predict')\r\n",
        "\r\n",
        "plt.show()\r\n"
      ],
      "execution_count": 7,
      "outputs": [
        {
          "output_type": "display_data",
          "data": {
            "image/png": "[encoded data removed]",
            "text/plain": [
              "<Figure size 432x288 with 1 Axes>"
            ]
          },
          "metadata": {
            "tags": [],
            "needs_background": "light"
          }
        }
      ]
    },
    {
      "cell_type": "code",
      "metadata": {
        "colab": {
          "base_uri": "https://localhost:8080/",
          "height": 309
        },
        "id": "cJpUFu6RYZA_",
        "outputId": "e628541f-955e-425f-a81f-d5da0b715368"
      },
      "source": [
        "model=SVC(kernel='linear', C=10).fit(X,y)\r\n",
        "\r\n",
        "xmin=X[:, 0].min()\r\n",
        "xmax=X[:, 0].max()\r\n",
        "ymin=X[:, 1].min()\r\n",
        "ymax=X[:, 1].max()\r\n",
        "\r\n",
        "xx=np.linspace(xmin, xmax, 10)\r\n",
        "yy=np.linspace(ymin, ymax, 10)\r\n",
        "X1, X2=np.meshgrid(xx, yy)\r\n",
        "\r\n",
        "Z=np.empty(X1.shape)\r\n",
        "for (i, j), val in np.ndenumerate(X1):\r\n",
        "    x1=val\r\n",
        "    x2=X2[i, j]\r\n",
        "    p=model.decision_function([[x1,x2]])\r\n",
        "    Z[i, j]=p[0]\r\n",
        "\r\n",
        "levels=[-1, 0, 1]\r\n",
        "linestyles=['dashed','solid','dashed']\r\n",
        "plt.scatter(X[y==-1, 0], X[y==-1, 1], marker='o', label='-1')\r\n",
        "plt.scatter(X[y==+1, 0], X[y==+1, 1], marker='x', label='+1')\r\n",
        "plt.contour(X1, X2, Z, levels, colors='k', linestyles=linestyles)\r\n",
        "plt.scatter(model.support_vectors_[:,0], model.support_vectors_[:, 1], s=300, alpha=0.3)\r\n",
        "\r\n",
        "plt.xlabel('x1')\r\n",
        "plt.ylabel('x2')\r\n",
        "plt.legend()\r\n",
        "plt.title('SVM Predict')\r\n",
        "\r\n",
        "plt.show()"
      ],
      "execution_count": 8,
      "outputs": [
        {
          "output_type": "display_data",
          "data": {
            "image/png": "[encoded data removed]",
            "text/plain": [
              "<Figure size 432x288 with 1 Axes>"
            ]
          },
          "metadata": {
            "tags": [],
            "needs_background": "light"
          }
        }
      ]
    },
    {
      "cell_type": "code",
      "metadata": {
        "colab": {
          "base_uri": "https://localhost:8080/",
          "height": 473
        },
        "id": "yJdPIZXlYcgz",
        "outputId": "b008ca43-89a8-4296-979a-15c4608335ee"
      },
      "source": [
        "from sklearn.ensemble import VotingClassifier\r\n",
        "from sklearn.linear_model import LogisticRegression\r\n",
        "from sklearn.neighbors import KNeighborsClassifier\r\n",
        "from sklearn.datasets import load_breast_cancer\r\n",
        "from sklearn.model_selection import train_test_split\r\n",
        "from sklearn.metrics import accuracy_score\r\n",
        "\r\n",
        "cancer=load_breast_cancer()\r\n",
        "\r\n",
        "df=pd.DataFrame(cancer.data, columns=cancer.feature_names)\r\n",
        "df"
      ],
      "execution_count": 9,
      "outputs": [
        {
          "output_type": "execute_result",
          "data": {
            "text/html": [
              "<div>\n",
              "<style scoped>\n",
              "    .dataframe tbody tr th:only-of-type {\n",
              "        vertical-align: middle;\n",
              "    }\n",
              "\n",
              "    .dataframe tbody tr th {\n",
              "        vertical-align: top;\n",
              "    }\n",
              "\n",
              "    .dataframe thead th {\n",
              "        text-align: right;\n",
              "    }\n",
              "</style>\n",
              "<table border=\"1\" class=\"dataframe\">\n",
              "  <thead>\n",
              "    <tr style=\"text-align: right;\">\n",
              "      <th></th>\n",
              "      <th>mean radius</th>\n",
              "      <th>mean texture</th>\n",
              "      <th>mean perimeter</th>\n",
              "      <th>mean area</th>\n",
              "      <th>mean smoothness</th>\n",
              "      <th>mean compactness</th>\n",
              "      <th>mean concavity</th>\n",
              "      <th>mean concave points</th>\n",
              "      <th>mean symmetry</th>\n",
              "      <th>mean fractal dimension</th>\n",
              "      <th>radius error</th>\n",
              "      <th>texture error</th>\n",
              "      <th>perimeter error</th>\n",
              "      <th>area error</th>\n",
              "      <th>smoothness error</th>\n",
              "      <th>compactness error</th>\n",
              "      <th>concavity error</th>\n",
              "      <th>concave points error</th>\n",
              "      <th>symmetry error</th>\n",
              "      <th>fractal dimension error</th>\n",
              "      <th>worst radius</th>\n",
              "      <th>worst texture</th>\n",
              "      <th>worst perimeter</th>\n",
              "      <th>worst area</th>\n",
              "      <th>worst smoothness</th>\n",
              "      <th>worst compactness</th>\n",
              "      <th>worst concavity</th>\n",
              "      <th>worst concave points</th>\n",
              "      <th>worst symmetry</th>\n",
              "      <th>worst fractal dimension</th>\n",
              "    </tr>\n",
              "  </thead>\n",
              "  <tbody>\n",
              "    <tr>\n",
              "      <th>0</th>\n",
              "      <td>17.99</td>\n",
              "      <td>10.38</td>\n",
              "      <td>122.80</td>\n",
              "      <td>1001.0</td>\n",
              "      <td>0.11840</td>\n",
              "      <td>0.27760</td>\n",
              "      <td>0.30010</td>\n",
              "      <td>0.14710</td>\n",
              "      <td>0.2419</td>\n",
              "      <td>0.07871</td>\n",
              "      <td>1.0950</td>\n",
              "      <td>0.9053</td>\n",
              "      <td>8.589</td>\n",
              "      <td>153.40</td>\n",
              "      <td>0.006399</td>\n",
              "      <td>0.04904</td>\n",
              "      <td>0.05373</td>\n",
              "      <td>0.01587</td>\n",
              "      <td>0.03003</td>\n",
              "      <td>0.006193</td>\n",
              "      <td>25.380</td>\n",
              "      <td>17.33</td>\n",
              "      <td>184.60</td>\n",
              "      <td>2019.0</td>\n",
              "      <td>0.16220</td>\n",
              "      <td>0.66560</td>\n",
              "      <td>0.7119</td>\n",
              "      <td>0.2654</td>\n",
              "      <td>0.4601</td>\n",
              "      <td>0.11890</td>\n",
              "    </tr>\n",
              "    <tr>\n",
              "      <th>1</th>\n",
              "      <td>20.57</td>\n",
              "      <td>17.77</td>\n",
              "      <td>132.90</td>\n",
              "      <td>1326.0</td>\n",
              "      <td>0.08474</td>\n",
              "      <td>0.07864</td>\n",
              "      <td>0.08690</td>\n",
              "      <td>0.07017</td>\n",
              "      <td>0.1812</td>\n",
              "      <td>0.05667</td>\n",
              "      <td>0.5435</td>\n",
              "      <td>0.7339</td>\n",
              "      <td>3.398</td>\n",
              "      <td>74.08</td>\n",
              "      <td>0.005225</td>\n",
              "      <td>0.01308</td>\n",
              "      <td>0.01860</td>\n",
              "      <td>0.01340</td>\n",
              "      <td>0.01389</td>\n",
              "      <td>0.003532</td>\n",
              "      <td>24.990</td>\n",
              "      <td>23.41</td>\n",
              "      <td>158.80</td>\n",
              "      <td>1956.0</td>\n",
              "      <td>0.12380</td>\n",
              "      <td>0.18660</td>\n",
              "      <td>0.2416</td>\n",
              "      <td>0.1860</td>\n",
              "      <td>0.2750</td>\n",
              "      <td>0.08902</td>\n",
              "    </tr>\n",
              "    <tr>\n",
              "      <th>2</th>\n",
              "      <td>19.69</td>\n",
              "      <td>21.25</td>\n",
              "      <td>130.00</td>\n",
              "      <td>1203.0</td>\n",
              "      <td>0.10960</td>\n",
              "      <td>0.15990</td>\n",
              "      <td>0.19740</td>\n",
              "      <td>0.12790</td>\n",
              "      <td>0.2069</td>\n",
              "      <td>0.05999</td>\n",
              "      <td>0.7456</td>\n",
              "      <td>0.7869</td>\n",
              "      <td>4.585</td>\n",
              "      <td>94.03</td>\n",
              "      <td>0.006150</td>\n",
              "      <td>0.04006</td>\n",
              "      <td>0.03832</td>\n",
              "      <td>0.02058</td>\n",
              "      <td>0.02250</td>\n",
              "      <td>0.004571</td>\n",
              "      <td>23.570</td>\n",
              "      <td>25.53</td>\n",
              "      <td>152.50</td>\n",
              "      <td>1709.0</td>\n",
              "      <td>0.14440</td>\n",
              "      <td>0.42450</td>\n",
              "      <td>0.4504</td>\n",
              "      <td>0.2430</td>\n",
              "      <td>0.3613</td>\n",
              "      <td>0.08758</td>\n",
              "    </tr>\n",
              "    <tr>\n",
              "      <th>3</th>\n",
              "      <td>11.42</td>\n",
              "      <td>20.38</td>\n",
              "      <td>77.58</td>\n",
              "      <td>386.1</td>\n",
              "      <td>0.14250</td>\n",
              "      <td>0.28390</td>\n",
              "      <td>0.24140</td>\n",
              "      <td>0.10520</td>\n",
              "      <td>0.2597</td>\n",
              "      <td>0.09744</td>\n",
              "      <td>0.4956</td>\n",
              "      <td>1.1560</td>\n",
              "      <td>3.445</td>\n",
              "      <td>27.23</td>\n",
              "      <td>0.009110</td>\n",
              "      <td>0.07458</td>\n",
              "      <td>0.05661</td>\n",
              "      <td>0.01867</td>\n",
              "      <td>0.05963</td>\n",
              "      <td>0.009208</td>\n",
              "      <td>14.910</td>\n",
              "      <td>26.50</td>\n",
              "      <td>98.87</td>\n",
              "      <td>567.7</td>\n",
              "      <td>0.20980</td>\n",
              "      <td>0.86630</td>\n",
              "      <td>0.6869</td>\n",
              "      <td>0.2575</td>\n",
              "      <td>0.6638</td>\n",
              "      <td>0.17300</td>\n",
              "    </tr>\n",
              "    <tr>\n",
              "      <th>4</th>\n",
              "      <td>20.29</td>\n",
              "      <td>14.34</td>\n",
              "      <td>135.10</td>\n",
              "      <td>1297.0</td>\n",
              "      <td>0.10030</td>\n",
              "      <td>0.13280</td>\n",
              "      <td>0.19800</td>\n",
              "      <td>0.10430</td>\n",
              "      <td>0.1809</td>\n",
              "      <td>0.05883</td>\n",
              "      <td>0.7572</td>\n",
              "      <td>0.7813</td>\n",
              "      <td>5.438</td>\n",
              "      <td>94.44</td>\n",
              "      <td>0.011490</td>\n",
              "      <td>0.02461</td>\n",
              "      <td>0.05688</td>\n",
              "      <td>0.01885</td>\n",
              "      <td>0.01756</td>\n",
              "      <td>0.005115</td>\n",
              "      <td>22.540</td>\n",
              "      <td>16.67</td>\n",
              "      <td>152.20</td>\n",
              "      <td>1575.0</td>\n",
              "      <td>0.13740</td>\n",
              "      <td>0.20500</td>\n",
              "      <td>0.4000</td>\n",
              "      <td>0.1625</td>\n",
              "      <td>0.2364</td>\n",
              "      <td>0.07678</td>\n",
              "    </tr>\n",
              "    <tr>\n",
              "      <th>...</th>\n",
              "      <td>...</td>\n",
              "      <td>...</td>\n",
              "      <td>...</td>\n",
              "      <td>...</td>\n",
              "      <td>...</td>\n",
              "      <td>...</td>\n",
              "      <td>...</td>\n",
              "      <td>...</td>\n",
              "      <td>...</td>\n",
              "      <td>...</td>\n",
              "      <td>...</td>\n",
              "      <td>...</td>\n",
              "      <td>...</td>\n",
              "      <td>...</td>\n",
              "      <td>...</td>\n",
              "      <td>...</td>\n",
              "      <td>...</td>\n",
              "      <td>...</td>\n",
              "      <td>...</td>\n",
              "      <td>...</td>\n",
              "      <td>...</td>\n",
              "      <td>...</td>\n",
              "      <td>...</td>\n",
              "      <td>...</td>\n",
              "      <td>...</td>\n",
              "      <td>...</td>\n",
              "      <td>...</td>\n",
              "      <td>...</td>\n",
              "      <td>...</td>\n",
              "      <td>...</td>\n",
              "    </tr>\n",
              "    <tr>\n",
              "      <th>564</th>\n",
              "      <td>21.56</td>\n",
              "      <td>22.39</td>\n",
              "      <td>142.00</td>\n",
              "      <td>1479.0</td>\n",
              "      <td>0.11100</td>\n",
              "      <td>0.11590</td>\n",
              "      <td>0.24390</td>\n",
              "      <td>0.13890</td>\n",
              "      <td>0.1726</td>\n",
              "      <td>0.05623</td>\n",
              "      <td>1.1760</td>\n",
              "      <td>1.2560</td>\n",
              "      <td>7.673</td>\n",
              "      <td>158.70</td>\n",
              "      <td>0.010300</td>\n",
              "      <td>0.02891</td>\n",
              "      <td>0.05198</td>\n",
              "      <td>0.02454</td>\n",
              "      <td>0.01114</td>\n",
              "      <td>0.004239</td>\n",
              "      <td>25.450</td>\n",
              "      <td>26.40</td>\n",
              "      <td>166.10</td>\n",
              "      <td>2027.0</td>\n",
              "      <td>0.14100</td>\n",
              "      <td>0.21130</td>\n",
              "      <td>0.4107</td>\n",
              "      <td>0.2216</td>\n",
              "      <td>0.2060</td>\n",
              "      <td>0.07115</td>\n",
              "    </tr>\n",
              "    <tr>\n",
              "      <th>565</th>\n",
              "      <td>20.13</td>\n",
              "      <td>28.25</td>\n",
              "      <td>131.20</td>\n",
              "      <td>1261.0</td>\n",
              "      <td>0.09780</td>\n",
              "      <td>0.10340</td>\n",
              "      <td>0.14400</td>\n",
              "      <td>0.09791</td>\n",
              "      <td>0.1752</td>\n",
              "      <td>0.05533</td>\n",
              "      <td>0.7655</td>\n",
              "      <td>2.4630</td>\n",
              "      <td>5.203</td>\n",
              "      <td>99.04</td>\n",
              "      <td>0.005769</td>\n",
              "      <td>0.02423</td>\n",
              "      <td>0.03950</td>\n",
              "      <td>0.01678</td>\n",
              "      <td>0.01898</td>\n",
              "      <td>0.002498</td>\n",
              "      <td>23.690</td>\n",
              "      <td>38.25</td>\n",
              "      <td>155.00</td>\n",
              "      <td>1731.0</td>\n",
              "      <td>0.11660</td>\n",
              "      <td>0.19220</td>\n",
              "      <td>0.3215</td>\n",
              "      <td>0.1628</td>\n",
              "      <td>0.2572</td>\n",
              "      <td>0.06637</td>\n",
              "    </tr>\n",
              "    <tr>\n",
              "      <th>566</th>\n",
              "      <td>16.60</td>\n",
              "      <td>28.08</td>\n",
              "      <td>108.30</td>\n",
              "      <td>858.1</td>\n",
              "      <td>0.08455</td>\n",
              "      <td>0.10230</td>\n",
              "      <td>0.09251</td>\n",
              "      <td>0.05302</td>\n",
              "      <td>0.1590</td>\n",
              "      <td>0.05648</td>\n",
              "      <td>0.4564</td>\n",
              "      <td>1.0750</td>\n",
              "      <td>3.425</td>\n",
              "      <td>48.55</td>\n",
              "      <td>0.005903</td>\n",
              "      <td>0.03731</td>\n",
              "      <td>0.04730</td>\n",
              "      <td>0.01557</td>\n",
              "      <td>0.01318</td>\n",
              "      <td>0.003892</td>\n",
              "      <td>18.980</td>\n",
              "      <td>34.12</td>\n",
              "      <td>126.70</td>\n",
              "      <td>1124.0</td>\n",
              "      <td>0.11390</td>\n",
              "      <td>0.30940</td>\n",
              "      <td>0.3403</td>\n",
              "      <td>0.1418</td>\n",
              "      <td>0.2218</td>\n",
              "      <td>0.07820</td>\n",
              "    </tr>\n",
              "    <tr>\n",
              "      <th>567</th>\n",
              "      <td>20.60</td>\n",
              "      <td>29.33</td>\n",
              "      <td>140.10</td>\n",
              "      <td>1265.0</td>\n",
              "      <td>0.11780</td>\n",
              "      <td>0.27700</td>\n",
              "      <td>0.35140</td>\n",
              "      <td>0.15200</td>\n",
              "      <td>0.2397</td>\n",
              "      <td>0.07016</td>\n",
              "      <td>0.7260</td>\n",
              "      <td>1.5950</td>\n",
              "      <td>5.772</td>\n",
              "      <td>86.22</td>\n",
              "      <td>0.006522</td>\n",
              "      <td>0.06158</td>\n",
              "      <td>0.07117</td>\n",
              "      <td>0.01664</td>\n",
              "      <td>0.02324</td>\n",
              "      <td>0.006185</td>\n",
              "      <td>25.740</td>\n",
              "      <td>39.42</td>\n",
              "      <td>184.60</td>\n",
              "      <td>1821.0</td>\n",
              "      <td>0.16500</td>\n",
              "      <td>0.86810</td>\n",
              "      <td>0.9387</td>\n",
              "      <td>0.2650</td>\n",
              "      <td>0.4087</td>\n",
              "      <td>0.12400</td>\n",
              "    </tr>\n",
              "    <tr>\n",
              "      <th>568</th>\n",
              "      <td>7.76</td>\n",
              "      <td>24.54</td>\n",
              "      <td>47.92</td>\n",
              "      <td>181.0</td>\n",
              "      <td>0.05263</td>\n",
              "      <td>0.04362</td>\n",
              "      <td>0.00000</td>\n",
              "      <td>0.00000</td>\n",
              "      <td>0.1587</td>\n",
              "      <td>0.05884</td>\n",
              "      <td>0.3857</td>\n",
              "      <td>1.4280</td>\n",
              "      <td>2.548</td>\n",
              "      <td>19.15</td>\n",
              "      <td>0.007189</td>\n",
              "      <td>0.00466</td>\n",
              "      <td>0.00000</td>\n",
              "      <td>0.00000</td>\n",
              "      <td>0.02676</td>\n",
              "      <td>0.002783</td>\n",
              "      <td>9.456</td>\n",
              "      <td>30.37</td>\n",
              "      <td>59.16</td>\n",
              "      <td>268.6</td>\n",
              "      <td>0.08996</td>\n",
              "      <td>0.06444</td>\n",
              "      <td>0.0000</td>\n",
              "      <td>0.0000</td>\n",
              "      <td>0.2871</td>\n",
              "      <td>0.07039</td>\n",
              "    </tr>\n",
              "  </tbody>\n",
              "</table>\n",
              "<p>569 rows × 30 columns</p>\n",
              "</div>"
            ],
            "text/plain": [
              "     mean radius  mean texture  ...  worst symmetry  worst fractal dimension\n",
              "0          17.99         10.38  ...          0.4601                  0.11890\n",
              "1          20.57         17.77  ...          0.2750                  0.08902\n",
              "2          19.69         21.25  ...          0.3613                  0.08758\n",
              "3          11.42         20.38  ...          0.6638                  0.17300\n",
              "4          20.29         14.34  ...          0.2364                  0.07678\n",
              "..           ...           ...  ...             ...                      ...\n",
              "564        21.56         22.39  ...          0.2060                  0.07115\n",
              "565        20.13         28.25  ...          0.2572                  0.06637\n",
              "566        16.60         28.08  ...          0.2218                  0.07820\n",
              "567        20.60         29.33  ...          0.4087                  0.12400\n",
              "568         7.76         24.54  ...          0.2871                  0.07039\n",
              "\n",
              "[569 rows x 30 columns]"
            ]
          },
          "metadata": {
            "tags": []
          },
          "execution_count": 9
        }
      ]
    },
    {
      "cell_type": "code",
      "metadata": {
        "colab": {
          "base_uri": "https://localhost:8080/"
        },
        "id": "S9xejnmMYhRW",
        "outputId": "7a96c971-ad02-4d4b-a20c-8d9d28510483"
      },
      "source": [
        "lr_clf=LogisticRegression()\r\n",
        "knn_clf=KNeighborsClassifier(n_neighbors=8)\r\n",
        "\r\n",
        "vo_clf=VotingClassifier(estimators=[('LR', lr_clf), ('KNN', knn_clf)], voting='soft')\r\n",
        "\r\n",
        "X_train, X_test, y_train, y_test=train_test_split(cancer.data, cancer.target, test_size=0.2, random_state=145)\r\n",
        "\r\n",
        "vo_clf.fit(X_train, y_train)\r\n",
        "pred=vo_clf.predict(X_test)\r\n",
        "print('Voting 분류기 정확도 : {0:.4f}'.format(accuracy_score(y_test, pred)))"
      ],
      "execution_count": 10,
      "outputs": [
        {
          "output_type": "stream",
          "text": [
            "Voting 분류기 정확도 : 0.9474\n"
          ],
          "name": "stdout"
        }
      ]
    },
    {
      "cell_type": "code",
      "metadata": {
        "colab": {
          "base_uri": "https://localhost:8080/"
        },
        "id": "xXb3Ss1vYjrf",
        "outputId": "ab1238ed-dc56-40f7-dd92-c1b9e9a7a1f4"
      },
      "source": [
        "classifiers=[lr_clf, knn_clf]\r\n",
        "\r\n",
        "for classifier in classifiers:\r\n",
        "    classifier.fit(X_train, y_train)\r\n",
        "    pred=classifier.predict(X_test)\r\n",
        "    class_name=classifier.__class__.__name__\r\n",
        "    print('{0} 정확도 : {1:.4f}'.format(class_name, accuracy_score(y_test, pred)))"
      ],
      "execution_count": 11,
      "outputs": [
        {
          "output_type": "stream",
          "text": [
            "LogisticRegression 정확도 : 0.9386\n",
            "KNeighborsClassifier 정확도 : 0.9211\n"
          ],
          "name": "stdout"
        }
      ]
    },
    {
      "cell_type": "code",
      "metadata": {
        "colab": {
          "base_uri": "https://localhost:8080/"
        },
        "id": "edwh67ACYmIt",
        "outputId": "db78f426-ae9f-48c0-f3aa-7f3fdda09d12"
      },
      "source": [
        "import pandas as pd\r\n",
        "import matplotlib.pyplot as plt\r\n",
        "%matplotlib inline\r\n",
        "\r\n",
        "feature_name_df = pd.read_csv('./features.txt', sep = '\\s+', header = None, names = ['column_index', 'column_name'])\r\n",
        "\r\n",
        "feature_name = feature_name_df.iloc[:,1].values.tolist()\r\n",
        "feature_dup_df = feature_name_df.groupby('column_name').count()\r\n",
        "print(feature_dup_df[feature_dup_df['column_index']>1].count())\r\n",
        "feature_dup_df[feature_dup_df['column_index']>1].head()\r\n",
        "\r\n",
        "def get_new_feature_name_df(old_feature_name_df):\r\n",
        "    feature_dup_df = pd.DataFrame(data = old_feature_name_df.groupby('column_name').cumcount(), columns = ['dup_cnt'])\r\n",
        "    feature_dup_df = feature_dup_df.reset_index()\r\n",
        "    new_feature_name_df = pd.merge(old_feature_name_df.reset_index(), feature_dup_df, how='outer')\r\n",
        "    new_feature_name_df['column_name'] = new_feature_name_df[['column_name', 'dup_cnt']].apply(lambda x : x[0]+'_'+str(x[1]) if x[1]>0 else x[0], axis = 1)\r\n",
        "    new_feature_name_df = new_feature_name_df.drop(['index'], axis = 1)\r\n",
        "    \r\n",
        "    return new_feature_name_df\r\n",
        "\r\n",
        "def get_human_dataset():\r\n",
        "    feature_name_df = pd.read_csv('./features.txt', sep = '\\s+', header=None, names=['column_index', 'column_name'])\r\n",
        "    new_feature_name_df = get_new_feature_name_df(feature_name_df)\r\n",
        "    feature_name = new_feature_name_df.iloc[:,1].values.tolist()\r\n",
        "    X_train = pd.read_csv('./X_train.txt', sep='\\s+', names = feature_name)\r\n",
        "    X_test = pd.read_csv('./X_test.txt', sep = '\\s+', names = feature_name)\r\n",
        "    y_train = pd.read_csv('./y_train.txt', sep='\\s+', header=None, names = ['action'])\r\n",
        "    y_test = pd.read_csv('./y_test.txt', sep = '\\s+', header=None, names = ['action'])\r\n",
        "    \r\n",
        "    return X_train, X_test, y_train, y_test"
      ],
      "execution_count": 13,
      "outputs": [
        {
          "output_type": "stream",
          "text": [
            "column_index    42\n",
            "dtype: int64\n"
          ],
          "name": "stdout"
        }
      ]
    },
    {
      "cell_type": "code",
      "metadata": {
        "id": "XaaOPDEWYrmr"
      },
      "source": [
        "from sklearn.tree import DecisionTreeClassifier\r\n",
        "from sklearn.metrics import accuracy_score\r\n",
        "\r\n",
        "X_train, X_test, y_train, y_test=get_human_dataset()"
      ],
      "execution_count": 14,
      "outputs": []
    },
    {
      "cell_type": "code",
      "metadata": {
        "colab": {
          "base_uri": "https://localhost:8080/"
        },
        "id": "4nMxC6vkYw_z",
        "outputId": "211bb785-a0f8-4888-8711-7d65e3e3bd65"
      },
      "source": [
        "dt_clf=DecisionTreeClassifier(random_state=0)\r\n",
        "dt_clf.fit(X_train, y_train)\r\n",
        "pred=dt_clf.predict(X_test)\r\n",
        "accuracy=accuracy_score(y_test, pred)\r\n",
        "print('DecisionTreeClassifier 예측 정확도 : {0:.4f}'.format(accuracy))"
      ],
      "execution_count": 15,
      "outputs": [
        {
          "output_type": "stream",
          "text": [
            "DecisionTreeClassifier 예측 정확도 : 0.8595\n"
          ],
          "name": "stdout"
        }
      ]
    },
    {
      "cell_type": "code",
      "metadata": {
        "id": "u5z4pCh5YzNr"
      },
      "source": [
        "from sklearn.ensemble import RandomForestClassifier"
      ],
      "execution_count": 16,
      "outputs": []
    },
    {
      "cell_type": "code",
      "metadata": {
        "colab": {
          "base_uri": "https://localhost:8080/"
        },
        "id": "7HJrQGP_Y1qx",
        "outputId": "a5540c3b-72f5-4271-8df5-85424a8bcaa8"
      },
      "source": [
        "rf_clf=RandomForestClassifier(random_state=0)\r\n",
        "rf_clf.fit(X_train, y_train)\r\n",
        "pred=rf_clf.predict(X_test)\r\n",
        "accuracy=accuracy_score(y_test, pred)\r\n",
        "print('RandomForestClassifier 예측 정확도 : {0:.4f}'.format(accuracy))"
      ],
      "execution_count": 17,
      "outputs": [
        {
          "output_type": "stream",
          "text": [
            "RandomForestClassifier 예측 정확도 : 0.9253\n"
          ],
          "name": "stdout"
        }
      ]
    },
    {
      "cell_type": "code",
      "metadata": {
        "id": "K5HQrykYY2wg"
      },
      "source": [
        "from sklearn.model_selection import GridSearchCV"
      ],
      "execution_count": 18,
      "outputs": []
    },
    {
      "cell_type": "code",
      "metadata": {
        "colab": {
          "base_uri": "https://localhost:8080/"
        },
        "id": "69Wh3p9AY7Im",
        "outputId": "34388f7a-aac8-4b3e-8dd9-5e782f061d0d"
      },
      "source": [
        "params={'n_estimators':[100], 'max_depth':[6,8,10,12], 'min_samples_leaf':[8,12,18], 'min_samples_split':[8,16,20]}\r\n",
        "\r\n",
        "rf_clf=RandomForestClassifier(random_state=0, n_jobs=-1)\r\n",
        "grid_cv=GridSearchCV(rf_clf, param_grid=params, cv=2, n_jobs=-1)\r\n",
        "grid_cv.fit(X_train, y_train)\r\n",
        "\r\n",
        "print('최적의 하이퍼 파라미터 : \\n ', grid_cv.best_params_)\r\n",
        "print('최고 예측 정확도 : {0:.4f}'.format(grid_cv.best_score_))"
      ],
      "execution_count": 21,
      "outputs": [
        {
          "output_type": "stream",
          "text": [
            "최적의 하이퍼 파라미터 : \n",
            "  {'max_depth': 10, 'min_samples_leaf': 8, 'min_samples_split': 8, 'n_estimators': 100}\n",
            "최고 예측 정확도 : 0.9180\n"
          ],
          "name": "stdout"
        }
      ]
    },
    {
      "cell_type": "code",
      "metadata": {
        "colab": {
          "base_uri": "https://localhost:8080/"
        },
        "id": "VaBBscEQY9Fs",
        "outputId": "74c3128f-0323-46f3-9586-0eb38dd5ea01"
      },
      "source": [
        "rt_clf1=RandomForestClassifier(n_estimators=300, max_depth=10, min_samples_leaf=8, min_samples_split=8, random_state=0)\r\n",
        "rt_clf1.fit(X_train, y_train)\r\n",
        "pred=rt_clf1.predict(X_test)\r\n",
        "print('예측 정확도 : {0:.4f}'.format(accuracy_score(y_test, pred)))"
      ],
      "execution_count": 23,
      "outputs": [
        {
          "output_type": "stream",
          "text": [
            "예측 정확도 : 0.9165\n"
          ],
          "name": "stdout"
        }
      ]
    },
    {
      "cell_type": "code",
      "metadata": {
        "colab": {
          "base_uri": "https://localhost:8080/",
          "height": 399
        },
        "id": "ZvfnGropG5RT",
        "outputId": "aff07546-bb6d-4367-85b5-b584fd2a6ca4"
      },
      "source": [
        "ftr_importances_values=rt_clf1.feature_importances_\r\n",
        "ftr_importances=pd.Series(ftr_importances_values, index=X_train.columns)\r\n",
        "ftr_top20=ftr_importances.sort_values(ascending=False)[:20]\r\n",
        "\r\n",
        "plt.figure(figsize=(8,6))\r\n",
        "plt.title('Feature Importance top 20')\r\n",
        "sns.barplot(x=ftr_top20, y=ftr_top20.index)\r\n",
        "plt.show()"
      ],
      "execution_count": 25,
      "outputs": [
        {
          "output_type": "display_data",
          "data": {
            "image/png": "[encoded data removed]",
            "text/plain": [
              "<Figure size 576x432 with 1 Axes>"
            ]
          },
          "metadata": {
            "tags": [],
            "needs_background": "light"
          }
        }
      ]
    },
    {
      "cell_type": "code",
      "metadata": {
        "id": "VcFF2nljIyky"
      },
      "source": [
        "from sklearn.metrics import accuracy_score, confusion_matrix"
      ],
      "execution_count": 33,
      "outputs": []
    },
    {
      "cell_type": "code",
      "metadata": {
        "id": "YP9XyOuOHs4q"
      },
      "source": [
        "df=pd.read_csv('./iris.csv')\r\n",
        "X=df.drop(['species'], axis=1)\r\n",
        "y=df['species']"
      ],
      "execution_count": 39,
      "outputs": []
    },
    {
      "cell_type": "code",
      "metadata": {
        "colab": {
          "base_uri": "https://localhost:8080/"
        },
        "id": "l7EtiF9EIG5A",
        "outputId": "944e0367-3909-48e0-ce91-21f0c16fb0f8"
      },
      "source": [
        "X_train, X_test, y_train, y_test=train_test_split(X, y, test_size=0.2, random_state=9, stratify=y)\r\n",
        "\r\n",
        "knn=KNeighborsClassifier(n_neighbors=3)\r\n",
        "knn.fit(X_train, y_train)\r\n",
        "pred=knn.predict(X_test)\r\n",
        "\r\n",
        "print('knn training set 정확도 : ', knn.score(X_train, y_train))\r\n",
        "print('knn test set 정확도 : ', accuracy_score(y_test, pred))\r\n",
        "confusion_matrix(y_test, pred)"
      ],
      "execution_count": 40,
      "outputs": [
        {
          "output_type": "stream",
          "text": [
            "knn training set 정확도 :  0.95\n",
            "knn test set 정확도 :  1.0\n"
          ],
          "name": "stdout"
        },
        {
          "output_type": "execute_result",
          "data": {
            "text/plain": [
              "array([[10,  0,  0],\n",
              "       [ 0, 10,  0],\n",
              "       [ 0,  0, 10]])"
            ]
          },
          "metadata": {
            "tags": []
          },
          "execution_count": 40
        }
      ]
    },
    {
      "cell_type": "code",
      "metadata": {
        "colab": {
          "base_uri": "https://localhost:8080/",
          "height": 309
        },
        "id": "-HPNsnETIv1X",
        "outputId": "bfe81ce3-9bec-412c-87b2-9b07b9993026"
      },
      "source": [
        "training_accuracy=[]\r\n",
        "test_accuracy=[]\r\n",
        "neighbors_settings=range(1, 14)\r\n",
        "\r\n",
        "for n_neighbors in neighbors_settings:\r\n",
        "  knn=KNeighborsClassifier(n_neighbors=n_neighbors)\r\n",
        "  knn.fit(X_train, y_train)\r\n",
        "  training_accuracy.append(knn.score(X_train, y_train))\r\n",
        "  test_accuracy.append(knn.score(X_test, y_test))\r\n",
        "\r\n",
        "plt.figure(figsize=(7, 4))\r\n",
        "plt.plot(neighbors_settings, training_accuracy, label='Training Accuracy')\r\n",
        "plt.plot(neighbors_settings, test_accuracy, label='Testing Accuracy')\r\n",
        "plt.xlabel('Accuracy')\r\n",
        "plt.ylabel('n_neighbors')\r\n",
        "plt.legend(loc='bottom right')"
      ],
      "execution_count": 43,
      "outputs": [
        {
          "output_type": "execute_result",
          "data": {
            "text/plain": [
              "<matplotlib.legend.Legend at 0x7fb80123c4a8>"
            ]
          },
          "metadata": {
            "tags": []
          },
          "execution_count": 43
        },
        {
          "output_type": "display_data",
          "data": {
            "image/png": "[encoded data removed]",
            "text/plain": [
              "<Figure size 504x288 with 1 Axes>"
            ]
          },
          "metadata": {
            "tags": [],
            "needs_background": "light"
          }
        }
      ]
    },
    {
      "cell_type": "code",
      "metadata": {
        "id": "PQmRVg7CJ6VW"
      },
      "source": [
        "grid_params={'n_neighbors':[3,5,7,9], 'weights':['uniform','distance'], 'metric':['euclidean','manhatten']}\r\n",
        "gs=GridSearchCV(knn, grid_params, cv=3)\r\n",
        "gs_results=gs.fit(X_train, y_train)\r\n",
        "gs_results.best_estimator_\r\n",
        "scores_df=pd.DataFrame(gs_results.cv_results_)"
      ],
      "execution_count": 44,
      "outputs": []
    },
    {
      "cell_type": "code",
      "metadata": {
        "colab": {
          "base_uri": "https://localhost:8080/"
        },
        "id": "z8O7HVfbLHq-",
        "outputId": "858175d8-c16b-4613-d442-64cc55072308"
      },
      "source": [
        "print(scores_df[['params','mean_test_score','rank_test_score','split0_test_score','split1_test_score','split2_test_score']].sort_values(by=['rank_test_score']).head())"
      ],
      "execution_count": 48,
      "outputs": [
        {
          "output_type": "stream",
          "text": [
            "                                              params  ...  split2_test_score\n",
            "4  {'metric': 'euclidean', 'n_neighbors': 7, 'wei...  ...              0.950\n",
            "5  {'metric': 'euclidean', 'n_neighbors': 7, 'wei...  ...              0.975\n",
            "7  {'metric': 'euclidean', 'n_neighbors': 9, 'wei...  ...              0.975\n",
            "2  {'metric': 'euclidean', 'n_neighbors': 5, 'wei...  ...              0.975\n",
            "3  {'metric': 'euclidean', 'n_neighbors': 5, 'wei...  ...              0.975\n",
            "\n",
            "[5 rows x 6 columns]\n"
          ],
          "name": "stdout"
        }
      ]
    },
    {
      "cell_type": "code",
      "metadata": {
        "colab": {
          "base_uri": "https://localhost:8080/"
        },
        "id": "z-tFQbooLI1M",
        "outputId": "9b862edd-7a90-4bd3-f118-1d8c883532dd"
      },
      "source": [
        "params=scores_df['params'][scores_df['rank_test_score']==1]\r\n",
        "print('\\n')\r\n",
        "for i in range(len(params)):\r\n",
        "  print(params.iloc[i])"
      ],
      "execution_count": 49,
      "outputs": [
        {
          "output_type": "stream",
          "text": [
            "\n",
            "\n",
            "{'metric': 'euclidean', 'n_neighbors': 7, 'weights': 'uniform'}\n",
            "{'metric': 'euclidean', 'n_neighbors': 7, 'weights': 'distance'}\n",
            "{'metric': 'euclidean', 'n_neighbors': 9, 'weights': 'distance'}\n"
          ],
          "name": "stdout"
        }
      ]
    },
    {
      "cell_type": "code",
      "metadata": {
        "colab": {
          "base_uri": "https://localhost:8080/"
        },
        "id": "lTyatmjiLzuB",
        "outputId": "7da66095-7dce-4ed7-d2e2-a2ec8c6fb6ee"
      },
      "source": [
        "from sklearn.svm import SVC\r\n",
        "\r\n",
        "svm=SVC(kernel='linear', C=1)\r\n",
        "svm.fit(X_train, y_train)\r\n",
        "pred=svm.predict(X_test)\r\n",
        "\r\n",
        "print('SVM training set 정확도 : ', svm.score(X_train, y_train))\r\n",
        "print('SVM test set 정확도 : ', accuracy_score(y_test, pred))\r\n",
        "\r\n",
        "confusion_matrix(y_test, pred)"
      ],
      "execution_count": 51,
      "outputs": [
        {
          "output_type": "stream",
          "text": [
            "SVM training set 정확도 :  0.9916666666666667\n",
            "SVM test set 정확도 :  1.0\n"
          ],
          "name": "stdout"
        },
        {
          "output_type": "execute_result",
          "data": {
            "text/plain": [
              "array([[10,  0,  0],\n",
              "       [ 0, 10,  0],\n",
              "       [ 0,  0, 10]])"
            ]
          },
          "metadata": {
            "tags": []
          },
          "execution_count": 51
        }
      ]
    },
    {
      "cell_type": "code",
      "metadata": {
        "colab": {
          "base_uri": "https://localhost:8080/"
        },
        "id": "BHxCKHY0NO5S",
        "outputId": "39db5556-7ae1-4ca7-b9bd-f97001ba6ea9"
      },
      "source": [
        "df=pd.read_csv('./iris.csv')\r\n",
        "\r\n",
        "X=df[['sepal_length','sepal_width','petal_length','petal_width']]\r\n",
        "y=df['species']\r\n",
        "\r\n",
        "X_train, X_test, y_train, y_test=train_test_split(X, y)\r\n",
        "\r\n",
        "y.value_counts()"
      ],
      "execution_count": 52,
      "outputs": [
        {
          "output_type": "execute_result",
          "data": {
            "text/plain": [
              "setosa        50\n",
              "versicolor    50\n",
              "virginica     50\n",
              "Name: species, dtype: int64"
            ]
          },
          "metadata": {
            "tags": []
          },
          "execution_count": 52
        }
      ]
    },
    {
      "cell_type": "code",
      "metadata": {
        "colab": {
          "base_uri": "https://localhost:8080/"
        },
        "id": "bqmBHsNJOCJd",
        "outputId": "a117a51c-17cc-4dfa-a563-51b1046e1eaa"
      },
      "source": [
        "dt_clf=DecisionTreeClassifier()\r\n",
        "dt_clf.fit(X_train, y_train)\r\n",
        "dt_pred=dt_clf.predict(X_test)\r\n",
        "dt_accuracy=accuracy_score(y_test, dt_pred)\r\n",
        "print('의사결정나무 training set 정확도 : ', dt_clf.score(X_train, y_train))\r\n",
        "print('의사결정나무 test set 정확도 : ', dt_accuracy)"
      ],
      "execution_count": 54,
      "outputs": [
        {
          "output_type": "stream",
          "text": [
            "의사결정나무 training set 정확도 :  1.0\n",
            "의사결정나무 test set 정확도 :  0.9210526315789473\n"
          ],
          "name": "stdout"
        }
      ]
    },
    {
      "cell_type": "code",
      "metadata": {
        "id": "6ZgrcZTdOagz"
      },
      "source": [
        ""
      ],
      "execution_count": null,
      "outputs": []
    }
  ]
}