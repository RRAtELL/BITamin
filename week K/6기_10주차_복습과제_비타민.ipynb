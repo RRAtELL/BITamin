{
 "cells": [
  {
   "cell_type": "markdown",
   "metadata": {},
   "source": [
    "# 1. KNN 알고리즘을 사용해 타이타닉 승객 생존여부 분류"
   ]
  },
  {
   "cell_type": "markdown",
   "metadata": {},
   "source": [
    "하단의 코드 실행 (타이타닉 데이터 전처리 코드) 후 문제풀이 진행"
   ]
  },
  {
   "cell_type": "code",
   "execution_count": 1,
   "metadata": {},
   "outputs": [
    {
     "name": "stdout",
     "output_type": "stream",
     "text": [
      "<class 'pandas.core.frame.DataFrame'>\n",
      "RangeIndex: 891 entries, 0 to 890\n",
      "Data columns (total 15 columns):\n",
      " #   Column       Non-Null Count  Dtype   \n",
      "---  ------       --------------  -----   \n",
      " 0   survived     891 non-null    int64   \n",
      " 1   pclass       891 non-null    int64   \n",
      " 2   sex          891 non-null    object  \n",
      " 3   age          714 non-null    float64 \n",
      " 4   sibsp        891 non-null    int64   \n",
      " 5   parch        891 non-null    int64   \n",
      " 6   fare         891 non-null    float64 \n",
      " 7   embarked     889 non-null    object  \n",
      " 8   class        891 non-null    category\n",
      " 9   who          891 non-null    object  \n",
      " 10  adult_male   891 non-null    bool    \n",
      " 11  deck         203 non-null    category\n",
      " 12  embark_town  889 non-null    object  \n",
      " 13  alive        891 non-null    object  \n",
      " 14  alone        891 non-null    bool    \n",
      "dtypes: bool(2), category(2), float64(2), int64(4), object(5)\n",
      "memory usage: 80.6+ KB\n",
      "<class 'pandas.core.frame.DataFrame'>\n",
      "Int64Index: 714 entries, 0 to 890\n",
      "Data columns (total 13 columns):\n",
      " #   Column      Non-Null Count  Dtype   \n",
      "---  ------      --------------  -----   \n",
      " 0   survived    714 non-null    int64   \n",
      " 1   pclass      714 non-null    int64   \n",
      " 2   sex         714 non-null    object  \n",
      " 3   age         714 non-null    float64 \n",
      " 4   sibsp       714 non-null    int64   \n",
      " 5   parch       714 non-null    int64   \n",
      " 6   fare        714 non-null    float64 \n",
      " 7   embarked    712 non-null    object  \n",
      " 8   class       714 non-null    category\n",
      " 9   who         714 non-null    object  \n",
      " 10  adult_male  714 non-null    bool    \n",
      " 11  alive       714 non-null    object  \n",
      " 12  alone       714 non-null    bool    \n",
      "dtypes: bool(2), category(1), float64(2), int64(4), object(4)\n",
      "memory usage: 63.6+ KB\n",
      "   survived  pclass   age  sibsp  parch  female  male  town_C  town_Q  town_S\n",
      "0         0       3  22.0      1      0       0     1       0       0       1\n",
      "1         1       1  38.0      1      0       1     0       1       0       0\n",
      "2         1       3  26.0      0      0       1     0       0       0       1\n",
      "3         1       1  35.0      1      0       1     0       0       0       1\n",
      "4         0       3  35.0      0      0       0     1       0       0       1\n"
     ]
    }
   ],
   "source": [
    "import pandas as pd\n",
    "import numpy as np\n",
    "import seaborn as sns\n",
    "from sklearn.preprocessing import StandardScaler\n",
    "from sklearn.model_selection import train_test_split\n",
    "from sklearn.neighbors import KNeighborsClassifier\n",
    "from sklearn.metrics import accuracy_score, confusion_matrix\n",
    "\n",
    "df = sns.load_dataset('titanic')\n",
    "df.head()\n",
    "df.info()\n",
    "\n",
    "rdf = df.drop(['deck','embark_town'], axis=1)\n",
    "rdf.columns.values\n",
    "rdf = rdf.dropna(subset=['age'], how='any', axis=0)\n",
    "len(rdf)\n",
    "rdf.info()\n",
    "most_freq = rdf['embarked'].value_counts(dropna=True).idxmax()\n",
    "rdf['embarked'].fillna(most_freq, inplace=True)\n",
    "\n",
    "ndf = rdf[['survived','pclass','sex','age','sibsp','parch','embarked']]\n",
    "ndf.head()\n",
    "\n",
    "onehot_sex = pd.get_dummies(ndf['sex'])\n",
    "ndf = pd.concat([ndf, onehot_sex], axis=1)\n",
    "\n",
    "onehot_embarked = pd.get_dummies(ndf['embarked'], prefix='town') #prefix는 열 이름 접두어\n",
    "ndf = pd.concat([ndf, onehot_embarked], axis=1)\n",
    "ndf.drop(['sex','embarked'], axis=1, inplace =True)\n",
    "print(ndf.head())\n",
    "\n",
    "X = ndf.drop(['survived'],axis=1)\n",
    "y = ndf['survived']\n",
    "\n",
    "X = StandardScaler().fit(X).transform(X)\n",
    "\n",
    "X_train,X_test,y_train,y_test = train_test_split(X, y, test_size=0.20, random_state=5)"
   ]
  },
  {
   "cell_type": "markdown",
   "metadata": {},
   "source": [
    "### 1.1) GridSearchCV를 사용해 최적 파라미터를 찾아주세요\n",
    "\n",
    "이웃 수, 거리지표, 가중치, cv 등 자유롭게 조정"
   ]
  },
  {
   "cell_type": "code",
   "execution_count": 2,
   "metadata": {},
   "outputs": [],
   "source": [
    "from sklearn.model_selection import GridSearchCV\n",
    "\n",
    "grid_params = {'n_neighbors':[], \n",
    "               'weights':[''],\n",
    "               'metric':['']}\n"
   ]
  },
  {
   "cell_type": "markdown",
   "metadata": {},
   "source": [
    "### 1.2) 1번에서 찾은 파라미터를 적용한 모델을 기반으로 분류예측을 진행 후 오차행렬과 test 정확도를 출력하세요"
   ]
  },
  {
   "cell_type": "code",
   "execution_count": null,
   "metadata": {},
   "outputs": [],
   "source": []
  },
  {
   "cell_type": "markdown",
   "metadata": {},
   "source": [
    "### 1.3)  2번에서 사용한 모델의 이웃 개수가 best인지 train 정확도와 test정확도를 이용한 시각화를 통해 확인해보세요. Best가 아닌 것으로 보인다면 파라미터를 조정한 후 다시 오차행렬과 test 정확도를 출력하세요"
   ]
  },
  {
   "cell_type": "code",
   "execution_count": 3,
   "metadata": {},
   "outputs": [],
   "source": [
    "import matplotlib.pyplot as plt\n",
    "import warnings \n",
    "warnings.filterwarnings('ignore')\n",
    "from matplotlib import font_manager, rc\n",
    "font_path = \"malgun.ttf\"\n",
    "font_name = font_manager.FontProperties(fname=font_path).get_name()\n",
    "rc(\"font\", family=font_name)"
   ]
  },
  {
   "cell_type": "code",
   "execution_count": null,
   "metadata": {},
   "outputs": [],
   "source": []
  },
  {
   "cell_type": "markdown",
   "metadata": {},
   "source": [
    "# 2. SVM "
   ]
  },
  {
   "cell_type": "code",
   "execution_count": 4,
   "metadata": {},
   "outputs": [],
   "source": [
    "def plot_svm(X, y, model, xmin=-3, xmax=3, ymin=-3, ymax=3):\n",
    "    XX, YY = np.meshgrid(np.arange(xmin, xmax, (xmax-xmin)/1000),\n",
    "                         np.arange(ymin, ymax, (ymax-ymin)/1000))\n",
    "    ZZ = np.reshape(model.predict(\n",
    "        np.array([XX.ravel(), YY.ravel()]).T), XX.shape)\n",
    "    plt.contourf(XX, YY, ZZ, cmap=plt.cm.Paired_r, alpha=0.5)\n",
    "    plt.scatter(X[y == 1, 0], X[y == 1, 1], c='b',\n",
    "                marker='o', s=50)\n",
    "    plt.scatter(X[y == 0, 0], X[y == 0, 1], c='r',\n",
    "                marker='s', s=50)\n",
    "    plt.xlim(xmin, xmax)\n",
    "    plt.ylim(ymin, ymax)\n",
    "    plt.title(\"nonlinear Svm\")\n",
    "    plt.xlabel(\"x1\")\n",
    "    plt.ylabel(\"x2\")"
   ]
  },
  {
   "cell_type": "code",
   "execution_count": 5,
   "metadata": {},
   "outputs": [
    {
     "data": {
      "image/png": "[encoded data removed]",
      "text/plain": [
       "<Figure size 432x288 with 1 Axes>"
      ]
     },
     "metadata": {
      "needs_background": "light"
     },
     "output_type": "display_data"
    }
   ],
   "source": [
    "from sklearn.svm import SVC\n",
    "import numpy as np\n",
    "from sklearn.datasets import make_blobs\n",
    "from matplotlib import pyplot as plt\n",
    "\n",
    "np.random.seed(0)\n",
    "X_xor = np.random.randn(300, 2)\n",
    "y_xor = np.logical_xor(X_xor[:, 0] > 0, X_xor[:, 1] > 0)\n",
    "y_xor = np.where(y_xor, 1, 0)\n",
    "plt.scatter(X_xor[y_xor == 1, 0], X_xor[y_xor == 1, 1],\n",
    "            c='b', marker='o', label='class 1', s=50)\n",
    "plt.scatter(X_xor[y_xor == 0, 0], X_xor[y_xor == 0, 1],\n",
    "            c='r', marker='s', label='class 0', s=50)\n",
    "plt.legend()\n",
    "plt.xlabel(\"x1\")\n",
    "plt.ylabel(\"x2\")\n",
    "plt.title(\"XOR\")\n",
    "plt.show()"
   ]
  },
  {
   "cell_type": "markdown",
   "metadata": {},
   "source": [
    "### 2.1) 위 코드를 통해 얻은 Plot을 보고 class1과 class0를 나누기 위해 아래 3개의 kernel과 조건을 사용해 각각 코드를 실행 시키세요.\n",
    "#### (1) linear \n",
    "#### (2) poly : gamma=1, coef0=0\n",
    "#### (3) rbf\n",
    "#### (4) sigmond: gamma=2, coef0=2"
   ]
  },
  {
   "cell_type": "code",
   "execution_count": null,
   "metadata": {},
   "outputs": [],
   "source": []
  },
  {
   "cell_type": "code",
   "execution_count": null,
   "metadata": {},
   "outputs": [],
   "source": []
  },
  {
   "cell_type": "code",
   "execution_count": null,
   "metadata": {},
   "outputs": [],
   "source": []
  },
  {
   "cell_type": "code",
   "execution_count": null,
   "metadata": {},
   "outputs": [],
   "source": []
  },
  {
   "cell_type": "markdown",
   "metadata": {},
   "source": [
    "# 3. 앙상블(ensemble) 학습"
   ]
  },
  {
   "cell_type": "markdown",
   "metadata": {},
   "source": [
    "### 3.1) 데이터 로드 및 선택\n",
    "##### 아래 코드를 실행해주세요"
   ]
  },
  {
   "cell_type": "code",
   "execution_count": 6,
   "metadata": {},
   "outputs": [
    {
     "data": {
      "text/html": [
       "<div>\n",
       "<style scoped>\n",
       "    .dataframe tbody tr th:only-of-type {\n",
       "        vertical-align: middle;\n",
       "    }\n",
       "\n",
       "    .dataframe tbody tr th {\n",
       "        vertical-align: top;\n",
       "    }\n",
       "\n",
       "    .dataframe thead th {\n",
       "        text-align: right;\n",
       "    }\n",
       "</style>\n",
       "<table border=\"1\" class=\"dataframe\">\n",
       "  <thead>\n",
       "    <tr style=\"text-align: right;\">\n",
       "      <th></th>\n",
       "      <th>age</th>\n",
       "      <th>sex</th>\n",
       "      <th>cp</th>\n",
       "      <th>trestbps</th>\n",
       "      <th>chol</th>\n",
       "      <th>fbs</th>\n",
       "      <th>restecg</th>\n",
       "      <th>thalach</th>\n",
       "      <th>exang</th>\n",
       "      <th>oldpeak</th>\n",
       "      <th>slope</th>\n",
       "      <th>ca</th>\n",
       "      <th>thal</th>\n",
       "      <th>target</th>\n",
       "    </tr>\n",
       "  </thead>\n",
       "  <tbody>\n",
       "    <tr>\n",
       "      <th>0</th>\n",
       "      <td>52</td>\n",
       "      <td>1</td>\n",
       "      <td>0</td>\n",
       "      <td>125</td>\n",
       "      <td>212</td>\n",
       "      <td>0</td>\n",
       "      <td>1</td>\n",
       "      <td>168</td>\n",
       "      <td>0</td>\n",
       "      <td>1.0</td>\n",
       "      <td>2</td>\n",
       "      <td>2</td>\n",
       "      <td>3</td>\n",
       "      <td>0</td>\n",
       "    </tr>\n",
       "    <tr>\n",
       "      <th>1</th>\n",
       "      <td>53</td>\n",
       "      <td>1</td>\n",
       "      <td>0</td>\n",
       "      <td>140</td>\n",
       "      <td>203</td>\n",
       "      <td>1</td>\n",
       "      <td>0</td>\n",
       "      <td>155</td>\n",
       "      <td>1</td>\n",
       "      <td>3.1</td>\n",
       "      <td>0</td>\n",
       "      <td>0</td>\n",
       "      <td>3</td>\n",
       "      <td>0</td>\n",
       "    </tr>\n",
       "    <tr>\n",
       "      <th>2</th>\n",
       "      <td>70</td>\n",
       "      <td>1</td>\n",
       "      <td>0</td>\n",
       "      <td>145</td>\n",
       "      <td>174</td>\n",
       "      <td>0</td>\n",
       "      <td>1</td>\n",
       "      <td>125</td>\n",
       "      <td>1</td>\n",
       "      <td>2.6</td>\n",
       "      <td>0</td>\n",
       "      <td>0</td>\n",
       "      <td>3</td>\n",
       "      <td>0</td>\n",
       "    </tr>\n",
       "    <tr>\n",
       "      <th>3</th>\n",
       "      <td>61</td>\n",
       "      <td>1</td>\n",
       "      <td>0</td>\n",
       "      <td>148</td>\n",
       "      <td>203</td>\n",
       "      <td>0</td>\n",
       "      <td>1</td>\n",
       "      <td>161</td>\n",
       "      <td>0</td>\n",
       "      <td>0.0</td>\n",
       "      <td>2</td>\n",
       "      <td>1</td>\n",
       "      <td>3</td>\n",
       "      <td>0</td>\n",
       "    </tr>\n",
       "    <tr>\n",
       "      <th>4</th>\n",
       "      <td>62</td>\n",
       "      <td>0</td>\n",
       "      <td>0</td>\n",
       "      <td>138</td>\n",
       "      <td>294</td>\n",
       "      <td>1</td>\n",
       "      <td>1</td>\n",
       "      <td>106</td>\n",
       "      <td>0</td>\n",
       "      <td>1.9</td>\n",
       "      <td>1</td>\n",
       "      <td>3</td>\n",
       "      <td>2</td>\n",
       "      <td>0</td>\n",
       "    </tr>\n",
       "  </tbody>\n",
       "</table>\n",
       "</div>"
      ],
      "text/plain": [
       "   age  sex  cp  trestbps  chol  fbs  restecg  thalach  exang  oldpeak  slope  \\\n",
       "0   52    1   0       125   212    0        1      168      0      1.0      2   \n",
       "1   53    1   0       140   203    1        0      155      1      3.1      0   \n",
       "2   70    1   0       145   174    0        1      125      1      2.6      0   \n",
       "3   61    1   0       148   203    0        1      161      0      0.0      2   \n",
       "4   62    0   0       138   294    1        1      106      0      1.9      1   \n",
       "\n",
       "   ca  thal  target  \n",
       "0   2     3       0  \n",
       "1   0     3       0  \n",
       "2   0     3       0  \n",
       "3   1     3       0  \n",
       "4   3     2       0  "
      ]
     },
     "execution_count": 6,
     "metadata": {},
     "output_type": "execute_result"
    }
   ],
   "source": [
    "import pandas as pd\n",
    "\n",
    "from sklearn.ensemble import VotingClassifier\n",
    "from sklearn.linear_model import LogisticRegression\n",
    "from sklearn.neighbors import KNeighborsClassifier\n",
    "from sklearn.tree import DecisionTreeClassifier\n",
    "from sklearn.model_selection import train_test_split\n",
    "from sklearn.metrics import accuracy_score\n",
    "\n",
    "import warnings\n",
    "warnings.filterwarnings('ignore')\n",
    "\n",
    "heart = pd.read_csv('heart_disease.csv')\n",
    "heart.head(5)"
   ]
  },
  {
   "cell_type": "code",
   "execution_count": 7,
   "metadata": {},
   "outputs": [
    {
     "name": "stdout",
     "output_type": "stream",
     "text": [
      "<class 'pandas.core.frame.DataFrame'>\n",
      "RangeIndex: 1025 entries, 0 to 1024\n",
      "Data columns (total 14 columns):\n",
      " #   Column    Non-Null Count  Dtype  \n",
      "---  ------    --------------  -----  \n",
      " 0   age       1025 non-null   int64  \n",
      " 1   sex       1025 non-null   int64  \n",
      " 2   cp        1025 non-null   int64  \n",
      " 3   trestbps  1025 non-null   int64  \n",
      " 4   chol      1025 non-null   int64  \n",
      " 5   fbs       1025 non-null   int64  \n",
      " 6   restecg   1025 non-null   int64  \n",
      " 7   thalach   1025 non-null   int64  \n",
      " 8   exang     1025 non-null   int64  \n",
      " 9   oldpeak   1025 non-null   float64\n",
      " 10  slope     1025 non-null   int64  \n",
      " 11  ca        1025 non-null   int64  \n",
      " 12  thal      1025 non-null   int64  \n",
      " 13  target    1025 non-null   int64  \n",
      "dtypes: float64(1), int64(13)\n",
      "memory usage: 112.2 KB\n"
     ]
    }
   ],
   "source": [
    "heart.info()"
   ]
  },
  {
   "cell_type": "markdown",
   "metadata": {},
   "source": [
    "#### hear_label에 타겟 레이블 값을 저장해주시고 나머지 데이터를 heart_data에 저장해주세요.\n",
    "* 타겟 레이블 데이터가 저장되어 있는 열 이름은 'target' 입니다."
   ]
  },
  {
   "cell_type": "code",
   "execution_count": null,
   "metadata": {},
   "outputs": [],
   "source": []
  },
  {
   "cell_type": "markdown",
   "metadata": {},
   "source": [
    "### 3.2.1) 소프트 보팅/하드 보팅 비교 \n",
    "* 로지스틱 회귀, KNN, 결정트리를 각각 lr_cf, knn_clf, dt_clf로 불러와주세요\n",
    "* lr_cf, knn_clf, dt_clf을 모두 이용해 Soft Voting 분류기, Hard Voting 분류기를 만들어주세요\n",
    "* Soft_Voting 분류기는 vo_clf_s, Hard_Voting 분류기는 vo_clf_h로 저장해주세요\n",
    "* train data와 test data 분리시 test_size를 0.25로 해주시고 radom_state는 본인 생일로 해주세요\n",
    "* 예시: 1999.11.22 -> random_state = 1122 / 1997.05.31 -> random_state = 531\n",
    "* Soft Voting 분류기와 Hard Voting 분류기의 정확도를 각각 출력해주세요"
   ]
  },
  {
   "cell_type": "code",
   "execution_count": null,
   "metadata": {},
   "outputs": [],
   "source": []
  },
  {
   "cell_type": "markdown",
   "metadata": {},
   "source": [
    "### 3.2.2) Soft Voting 분류기와 Hard Voting 분류기 중 어떤 분류기가 더 좋은지 위의 결과를 바탕으로 성능을 비교해주세요"
   ]
  },
  {
   "cell_type": "markdown",
   "metadata": {},
   "source": [
    "딥:"
   ]
  },
  {
   "cell_type": "markdown",
   "metadata": {},
   "source": [
    "### 3.3.1) 개별 모형 정확도 측정\n",
    "* lr_cf, knn_clf, dt_clf를 이용해 각 Clssifier별 정확도를 출력해주세요\n",
    "* train data와 test data 분리시 위와 동일하게 test_size를 0.25로 해주시고 radom_state는 본인 생일로 해주세요\n",
    "* 예시: 1999.11.22 -> random_state = 1122 / 1997.05.31 -> random_state = 531"
   ]
  },
  {
   "cell_type": "code",
   "execution_count": null,
   "metadata": {},
   "outputs": [],
   "source": []
  },
  {
   "cell_type": "markdown",
   "metadata": {},
   "source": [
    "### 3.3.2) 개별 분류기의 성능과 보팅 분류기의 성능을 비교해 앙상블 학습의 특징이 무엇인지 서술해주세요."
   ]
  },
  {
   "cell_type": "markdown",
   "metadata": {},
   "source": [
    "답:"
   ]
  },
  {
   "cell_type": "code",
   "execution_count": null,
   "metadata": {},
   "outputs": [],
   "source": []
  },
  {
   "cell_type": "markdown",
   "metadata": {},
   "source": [
    "# 4. 랜덤포레스트"
   ]
  },
  {
   "cell_type": "markdown",
   "metadata": {},
   "source": [
    "- 랜덤포레스트는 여러개의 Decision Tree를 만들고 연결한 후, 결과를 평균 내어 성능을 높인 모델입니다.\n",
    "- 4번 과제는 RandomForestClassifier로 랜덤포레스트를 하는 것이 아닌 랜덤포레스트의 원리를 이해하기 위해 Decision Tree로 직접 앙상블 해보는 것입니다."
   ]
  },
  {
   "cell_type": "code",
   "execution_count": 8,
   "metadata": {},
   "outputs": [
    {
     "name": "stdout",
     "output_type": "stream",
     "text": [
      "<class 'pandas.core.frame.DataFrame'>\n",
      "RangeIndex: 891 entries, 0 to 890\n",
      "Data columns (total 12 columns):\n",
      " #   Column       Non-Null Count  Dtype  \n",
      "---  ------       --------------  -----  \n",
      " 0   PassengerId  891 non-null    int64  \n",
      " 1   Survived     891 non-null    int64  \n",
      " 2   Pclass       891 non-null    int64  \n",
      " 3   Name         891 non-null    object \n",
      " 4   Sex          891 non-null    object \n",
      " 5   Age          714 non-null    float64\n",
      " 6   SibSp        891 non-null    int64  \n",
      " 7   Parch        891 non-null    int64  \n",
      " 8   Ticket       891 non-null    object \n",
      " 9   Fare         891 non-null    float64\n",
      " 10  Cabin        204 non-null    object \n",
      " 11  Embarked     889 non-null    object \n",
      "dtypes: float64(2), int64(5), object(5)\n",
      "memory usage: 83.7+ KB\n",
      "None\n",
      "<class 'pandas.core.frame.DataFrame'>\n",
      "RangeIndex: 418 entries, 0 to 417\n",
      "Data columns (total 11 columns):\n",
      " #   Column       Non-Null Count  Dtype  \n",
      "---  ------       --------------  -----  \n",
      " 0   PassengerId  418 non-null    int64  \n",
      " 1   Pclass       418 non-null    int64  \n",
      " 2   Name         418 non-null    object \n",
      " 3   Sex          418 non-null    object \n",
      " 4   Age          332 non-null    float64\n",
      " 5   SibSp        418 non-null    int64  \n",
      " 6   Parch        418 non-null    int64  \n",
      " 7   Ticket       418 non-null    object \n",
      " 8   Fare         417 non-null    float64\n",
      " 9   Cabin        91 non-null     object \n",
      " 10  Embarked     418 non-null    object \n",
      "dtypes: float64(2), int64(4), object(5)\n",
      "memory usage: 36.0+ KB\n",
      "None\n"
     ]
    }
   ],
   "source": [
    "import pandas as pd\n",
    "import numpy as np\n",
    "from sklearn.model_selection import train_test_split\n",
    "\n",
    "train = pd.read_csv(\"train.csv\")\n",
    "test = pd.read_csv(\"test.csv\")\n",
    "\n",
    "print(train.info())\n",
    "print(test.info())"
   ]
  },
  {
   "cell_type": "code",
   "execution_count": 9,
   "metadata": {},
   "outputs": [],
   "source": [
    "# 데이터 전처리\n",
    "train['Age'] = train['Age'].fillna(train['Age'].mean())\n",
    "test['Age'] = test['Age'].fillna(train['Age'].mean())\n",
    "\n",
    "train.loc[train['Age']<10, 'Age']=0\n",
    "train.loc[(train['Age']>=10) & (train['Age']<20), 'Age']=1\n",
    "train.loc[(train['Age']>=20) & (train['Age']<30), 'Age']=2\n",
    "train.loc[(train['Age']>=30) & (train['Age']<40), 'Age']=3\n",
    "train.loc[(train['Age']>=40) & (train['Age']<50), 'Age']=4\n",
    "train.loc[train['Age']>=50, 'Age']=5\n",
    "\n",
    "test.loc[train['Age']<10, 'Age']=0\n",
    "test.loc[(train['Age']>=10) & (train['Age']<20), 'Age']=1\n",
    "test.loc[(train['Age']>=20) & (train['Age']<30), 'Age']=2\n",
    "test.loc[(train['Age']>=30) & (train['Age']<40), 'Age']=3\n",
    "test.loc[(train['Age']>=40) & (train['Age']<50), 'Age']=4\n",
    "test.loc[train['Age']>=50, 'Age']=5\n",
    "\n",
    "train['FamilySize'] = train['SibSp']+train['Parch']\n",
    "test['FamilySize'] = test['SibSp']+test['Parch']\n",
    "\n",
    "train['Fare'] = train['Fare'].fillna(train['Fare'].mean())\n",
    "test['Fare'] = test['Fare'].fillna(train['Fare'].mean())\n",
    "\n",
    "train['Embarked'] = train['Embarked'].fillna('S')\n",
    "test['Embarked'] = test['Embarked'].fillna('S')\n",
    "train['Embarked'] = train['Embarked'].map({\n",
    "    'S' : 0, 'C' : 1, 'Q' : 2})\n",
    "test['Embarked'] = test['Embarked'].map({\n",
    "    'S' : 0, 'C' : 1, 'Q' : 2})\n",
    "\n",
    "train.loc[train['Sex']=='male', 'Sex']=0\n",
    "train.loc[train['Sex']=='female', 'Sex']=1\n",
    "test.loc[test['Sex']=='male', 'Sex']=0\n",
    "test.loc[test['Sex']=='female', 'Sex']=1\n",
    "\n",
    "train = train[['Survived', 'Sex', 'Age', 'FamilySize', 'Fare', 'Embarked']]\n",
    "test = test[['Sex', 'Age', 'FamilySize', 'Fare', 'Embarked']]\n",
    "\n",
    "X_train = train[['Sex', 'Age', 'FamilySize', 'Fare', 'Embarked']]\n",
    "y_train = train['Survived']\n",
    "X_test = test"
   ]
  },
  {
   "cell_type": "markdown",
   "metadata": {},
   "source": [
    "## Decision Tree로 앙상블"
   ]
  },
  {
   "cell_type": "markdown",
   "metadata": {},
   "source": [
    "### 4.1) train set (X_train과 y_train)로 학습한 모델의 성능을 측정하기위해 validation set을 만듭니다.\n",
    "- train set(X_train, y_train)의 앞쪽 100개만 X_valid, y_valid에 저장 해주세요.\n",
    "- 앞의 100개를 제외한 남은 부분을 다시 X_train과 y_train으로 재정의 해주세요."
   ]
  },
  {
   "cell_type": "code",
   "execution_count": null,
   "metadata": {},
   "outputs": [],
   "source": []
  },
  {
   "cell_type": "markdown",
   "metadata": {},
   "source": [
    "### 4.2) tree1, tree2, tree3에 3개의 DecisionTree를 구성하여 (1)에서 만든 X_train, y_train으로 학습해주세요. 그리고 각 tree의 train set과 validation set의 score를 출력해주세요.\n",
    "\n",
    "- ' from sklearn.tree import DecisionTreeClassifier '를 사용하세요\n",
    "- 예를 들어, tree1의 train set score는 tree1.score(X_train, y_train)으로 확인할 수 있습니다."
   ]
  },
  {
   "cell_type": "code",
   "execution_count": null,
   "metadata": {},
   "outputs": [],
   "source": []
  },
  {
   "cell_type": "markdown",
   "metadata": {},
   "source": [
    "### 4.3) 각 tree를 X_test를 통해 예측하여 pred1, pred2, pred3에 저장해주세요. 그리고 ensemble에 pred1, pred2, pred3의 평균을 저장해주세요.\n",
    "\n",
    "- 그 후, ensemble > 0.5이면 1로, ensemble <= 0.5이면 0으로 변환해주세요.\n",
    "- 마지막으로 ensemble 변수를 int형으로 바꿔주세요.\n",
    "\n",
    "- 예측 정확도가 궁금하시다면, ensemble을 csv파일로 내보낸 후, 'https://www.kaggle.com/c/titanic/submit' 홈페이지에 제출하면 확인 할 수 있습니다."
   ]
  },
  {
   "cell_type": "code",
   "execution_count": null,
   "metadata": {},
   "outputs": [],
   "source": []
  },
  {
   "cell_type": "code",
   "execution_count": null,
   "metadata": {},
   "outputs": [],
   "source": []
  }
 ],
 "metadata": {
  "kernelspec": {
   "display_name": "Python 3",
   "language": "python",
   "name": "python3"
  },
  "language_info": {
   "codemirror_mode": {
    "name": "ipython",
    "version": 3
   },
   "file_extension": ".py",
   "mimetype": "text/x-python",
   "name": "python",
   "nbconvert_exporter": "python",
   "pygments_lexer": "ipython3",
   "version": "3.8.3"
  }
 },
 "nbformat": 4,
 "nbformat_minor": 4
}
