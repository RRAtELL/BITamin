{
 "cells": [
  {
   "cell_type": "code",
   "execution_count": 1,
   "metadata": {},
   "outputs": [],
   "source": [
    "import pandas as pd\n",
    "import numpy as np\n",
    "import matplotlib.pyplot as plt\n",
    "import seaborn as sns\n",
    "import sklearn"
   ]
  },
  {
   "cell_type": "code",
   "execution_count": 2,
   "metadata": {},
   "outputs": [],
   "source": [
    "from sklearn.model_selection import train_test_split\n",
    "from sklearn.linear_model import LogisticRegression\n",
    "from sklearn.metrics import accuracy_score, recall_score, precision_score, confusion_matrix\n",
    "from sklearn.datasets import load_breast_cancer\n",
    "from sklearn.metrics import precision_recall_curve\n",
    "from sklearn.preprocessing import Binarizer"
   ]
  },
  {
   "cell_type": "code",
   "execution_count": 3,
   "metadata": {},
   "outputs": [],
   "source": [
    "import matplotlib.pyplot as plt\n",
    "import matplotlib.ticker as ticker\n",
    "%matplotlib inline"
   ]
  },
  {
   "cell_type": "markdown",
   "metadata": {},
   "source": [
    "## 1.  종양종류 예측(모델학습/예측/평가지표)"
   ]
  },
  {
   "cell_type": "markdown",
   "metadata": {},
   "source": [
    "### (1) load_breast_cancer데이터를 Logistic Regression으로 예측하고정확도, 정밀도, 재현율, 오차행렬을 산출하세요."
   ]
  },
  {
   "cell_type": "markdown",
   "metadata": {},
   "source": [
    "- load_breast_cancer은 위스콘신 유방암 데이터로 악성종양(malignant)과 양성종양(benign)으로 구분되는 데이터세트 입니다. \n",
    "- 타깃 레이블 값의 종류는 악성이 '0'으로 양성이 '1'로 되어 있습니다.\n",
    "- sklearn.model_selection 의 train_test_split(test_size=0.3, random_state=11) 이용.\n",
    "- sklearn.linear_model의 LogisticRegression(random_state=11).\n",
    "- sklearn.metrics의 정확도, 정밀도, 재현율, 오차행렬 이용."
   ]
  },
  {
   "cell_type": "code",
   "execution_count": 4,
   "metadata": {},
   "outputs": [],
   "source": [
    "dataset = load_breast_cancer()\n",
    "X_features=dataset.data\n",
    "y_label=dataset.target"
   ]
  },
  {
   "cell_type": "code",
   "execution_count": 10,
   "metadata": {},
   "outputs": [
    {
     "name": "stdout",
     "output_type": "stream",
     "text": [
      "(398, 30) (171, 30)\n",
      "정확도 : 0.912, 정밀도 : 0.913, 재현율 : 0.955\n",
      "오차행렬:\n",
      "[[ 51  10]\n",
      " [  5 105]]\n"
     ]
    },
    {
     "name": "stderr",
     "output_type": "stream",
     "text": [
      "C:\\ANACONDA\\lib\\site-packages\\sklearn\\linear_model\\_logistic.py:762: ConvergenceWarning: lbfgs failed to converge (status=1):\n",
      "STOP: TOTAL NO. of ITERATIONS REACHED LIMIT.\n",
      "\n",
      "Increase the number of iterations (max_iter) or scale the data as shown in:\n",
      "    https://scikit-learn.org/stable/modules/preprocessing.html\n",
      "Please also refer to the documentation for alternative solver options:\n",
      "    https://scikit-learn.org/stable/modules/linear_model.html#logistic-regression\n",
      "  n_iter_i = _check_optimize_result(\n"
     ]
    }
   ],
   "source": [
    "# 데이터 나누기\n",
    "X_train,X_test,y_train,y_test = train_test_split(X_features, y_label, test_size=0.3,\n",
    "                                                random_state=11)\n",
    "print(X_train.shape, X_test.shape)\n",
    "# 모델 생성 및 예측\n",
    "lr_clf = LogisticRegression(random_state=11)\n",
    "lr_clf.fit(X_train,y_train)\n",
    "lr_pred = lr_clf.predict(X_test)\n",
    "\n",
    "\n",
    "# 정확도, 정밀도, 재현율\n",
    "def get_clf_eval(y_test,pred):\n",
    "    accuracy = accuracy_score(y_test,pred)\n",
    "    confusion = confusion_matrix(y_test,pred)\n",
    "    precision = precision_score(y_test, pred)\n",
    "    recall = recall_score(y_test,pred)\n",
    "    print(\"정확도 : {:.3f}, 정밀도 : {:.3f}, 재현율 : {:.3f}\\n오차행렬:\\n{}\".format(accuracy,\n",
    "                                        precision,recall, confusion))\n",
    "\n",
    "# get_clf_eval(y_test,lr_pred)\n",
    "get_clf_eval(y_test,lr_pred)"
   ]
  },
  {
   "cell_type": "markdown",
   "metadata": {},
   "source": [
    "## 2. 임계값에 따른 성능 평가 지표"
   ]
  },
  {
   "cell_type": "markdown",
   "metadata": {},
   "source": [
    "### (1) 임계값이 0.3, 0.5, 0.7, 0.9일때 오차행렬, 정확도, 정밀도, 재현율을 구하세요"
   ]
  },
  {
   "cell_type": "markdown",
   "metadata": {},
   "source": [
    "### (2) positive(1)에 대한 임계값 변화에 따른 예측확률의 정밀도-재현율 변화 곡선을 시각화해 보세요."
   ]
  },
  {
   "cell_type": "code",
   "execution_count": null,
   "metadata": {},
   "outputs": [],
   "source": []
  },
  {
   "cell_type": "markdown",
   "metadata": {},
   "source": [
    "### (3) 위의 결과들을 볼 때 이 모델은 좋은 모델이라고 할 수 있을까요? 이에 대한 답과 이유를 서술하세요. \n",
    "### 또한 임계치가 어느 정도일때 가장 좋은 성능인지 자유롭게 서술하세요."
   ]
  },
  {
   "cell_type": "markdown",
   "metadata": {},
   "source": [
    "답:"
   ]
  },
  {
   "cell_type": "markdown",
   "metadata": {},
   "source": [
    "## 3. 과일종류 예측(모델학습/예측/평가지표)"
   ]
  },
  {
   "cell_type": "markdown",
   "metadata": {},
   "source": [
    "### (1) 데이터 확인 및 전처리\n",
    "- citrus.csv는 오렌지와 자몽의 직경, 무게, 색상(RGB) 데이터 입니다. 직경, 무게, 색상(RGB)로 오렌지와 자몽을 분류해 봅시다.\n",
    "- 아래의 코드를 실행시켜 주세요"
   ]
  },
  {
   "cell_type": "code",
   "execution_count": 10,
   "metadata": {},
   "outputs": [
    {
     "name": "stdout",
     "output_type": "stream",
     "text": [
      "     name  diameter  weight  red  green  blue\n",
      "0  orange      2.96   86.76  172     85     2\n",
      "1  orange      3.91   88.05  166     78     3\n",
      "2  orange      4.42   95.17  156     81     2\n",
      "3  orange      4.47   95.60  163     81     4\n",
      "4  orange      4.48   95.76  161     72     9\n",
      "\n",
      "\n",
      "<class 'pandas.core.frame.DataFrame'>\n",
      "RangeIndex: 10000 entries, 0 to 9999\n",
      "Data columns (total 6 columns):\n",
      "name        10000 non-null object\n",
      "diameter    10000 non-null float64\n",
      "weight      10000 non-null float64\n",
      "red         10000 non-null int64\n",
      "green       10000 non-null int64\n",
      "blue        10000 non-null int64\n",
      "dtypes: float64(2), int64(3), object(1)\n",
      "memory usage: 468.8+ KB\n",
      "None\n",
      "\n",
      "\n",
      "orange        5000\n",
      "grapefruit    5000\n",
      "Name: name, dtype: int64\n"
     ]
    }
   ],
   "source": [
    "from sklearn.model_selection import train_test_split\n",
    "from sklearn.metrics import accuracy_score, precision_score, recall_score, roc_auc_score\n",
    "from sklearn.metrics import f1_score, confusion_matrix\n",
    "from sklearn import preprocessing\n",
    "from sklearn.tree import DecisionTreeClassifier\n",
    "from sklearn.ensemble import RandomForestClassifier\n",
    "from sklearn.linear_model import LogisticRegression\n",
    "\n",
    "import pandas as pd\n",
    "citrus_df=pd.read_csv('./citrus.csv')\n",
    "print(citrus_df.head())\n",
    "print('\\n')\n",
    "print(citrus_df.info())\n",
    "print('\\n')\n",
    "print(citrus_df['name'].value_counts())"
   ]
  },
  {
   "cell_type": "markdown",
   "metadata": {},
   "source": [
    "1)  'grapefruit'와 'orange'를 각각 '0', '1'로 인코딩 해주세요"
   ]
  },
  {
   "cell_type": "code",
   "execution_count": null,
   "metadata": {},
   "outputs": [],
   "source": []
  },
  {
   "cell_type": "markdown",
   "metadata": {},
   "source": [
    "### (2) 데이터 분리 및 예측\n",
    "1) 'name'을 레이블로, 나머지는 피쳐로 나누고, train/test 데이터를 나눠주세요(test_size=0.2)"
   ]
  },
  {
   "cell_type": "code",
   "execution_count": null,
   "metadata": {},
   "outputs": [],
   "source": []
  },
  {
   "cell_type": "markdown",
   "metadata": {},
   "source": [
    "2) 결정트리, 랜덤포레스트, 로지스틱 회귀(이 순서를 계속 유지)를 이용하여 모델학습과 예측을 수행하세요.\n",
    "- 결정트리와 랜덤포레스트의 경우, random_state=11\n",
    "   (DecisonTreeClassifier(random_state=11),RandomForestClassifier(random_state=11))\n",
    "- 모델변수명을 차례대로 dt_clf, rt_clf, lr_clf 로 설정하세요.\n",
    "- 예측값 변수명을 차례대로 dt_pred, rt_pred, lr_pred 로 설정하세요."
   ]
  },
  {
   "cell_type": "code",
   "execution_count": null,
   "metadata": {},
   "outputs": [],
   "source": []
  },
  {
   "cell_type": "markdown",
   "metadata": {},
   "source": [
    "### (3) 성능 평가 지표 구하기"
   ]
  },
  {
   "cell_type": "markdown",
   "metadata": {},
   "source": [
    "1) 오차행렬을 파악하기 위해 각 모델에서의 예측확률값을 구하고 성능 평가 지표를 구하는 함수인 get_clf_eval을 작성하세요.\n",
    "- 예측확률값은 dt_pred_proba, rt_pred_proba, lr_pred_proba 에 저장하세요.\n",
    "- get_clf_eval은 평가지표 4가지 [정확도, 정밀도, 재현율, f1_score]를 포함하여야합니다."
   ]
  },
  {
   "cell_type": "code",
   "execution_count": null,
   "metadata": {},
   "outputs": [],
   "source": []
  },
  {
   "cell_type": "markdown",
   "metadata": {},
   "source": [
    "2) get_clf_eval를 사용하여 결정트리, 랜덤포레스트, 로지스틱 회귀의 성능 평가 지표값(오차행렬)을 출력하여 주세요"
   ]
  },
  {
   "cell_type": "code",
   "execution_count": null,
   "metadata": {},
   "outputs": [],
   "source": []
  },
  {
   "cell_type": "markdown",
   "metadata": {},
   "source": [
    "3) 어떤 모델의 성능이 가장 떨어진다고 할 수 있나요? 그 이유는 무엇인가요?"
   ]
  },
  {
   "cell_type": "markdown",
   "metadata": {},
   "source": [
    "답:"
   ]
  },
  {
   "cell_type": "markdown",
   "metadata": {},
   "source": [
    "## 4. ROC 곡선 및 AUC"
   ]
  },
  {
   "cell_type": "markdown",
   "metadata": {},
   "source": [
    "### (1) 모델별 ROC 곡선\n",
    "- fprs, tprs 를 이용하여 roc 곡선을 그릴 수 있는 함수인 roc_curve_plot을 작성하세요.\n",
    "- 임계값 간 간격은 5로 설정해주세요.\n",
    "- 세 모델의 roc 곡선을 그리고, plt.subplot(.)을 이용하여 한 면에 세 그래프를 동시에 나타내세요."
   ]
  },
  {
   "cell_type": "code",
   "execution_count": 16,
   "metadata": {},
   "outputs": [],
   "source": [
    "from sklearn.metrics import roc_curve\n",
    "import matplotlib.pyplot as plt\n",
    "import numpy as np"
   ]
  },
  {
   "cell_type": "code",
   "execution_count": null,
   "metadata": {},
   "outputs": [],
   "source": []
  },
  {
   "cell_type": "markdown",
   "metadata": {},
   "source": [
    "### (2) 모델별 AUC"
   ]
  },
  {
   "cell_type": "markdown",
   "metadata": {},
   "source": [
    "1) 각 모델별 AUC를 구하세요.\n",
    "- 차례대로 dt_roc_auc, rt_roc_auc, lr_roc_auc 에 저장하시고 출력해 주세요."
   ]
  },
  {
   "cell_type": "code",
   "execution_count": null,
   "metadata": {},
   "outputs": [],
   "source": []
  },
  {
   "cell_type": "markdown",
   "metadata": {},
   "source": [
    "2) AUC 기준으로, 어느 모델의 성능이 가장 떨어지나요? 그 이유는 무엇인가요?"
   ]
  },
  {
   "cell_type": "markdown",
   "metadata": {},
   "source": [
    "답:"
   ]
  }
 ],
 "metadata": {
  "kernelspec": {
   "display_name": "Python 3",
   "language": "python",
   "name": "python3"
  },
  "language_info": {
   "codemirror_mode": {
    "name": "ipython",
    "version": 3
   },
   "file_extension": ".py",
   "mimetype": "text/x-python",
   "name": "python",
   "nbconvert_exporter": "python",
   "pygments_lexer": "ipython3",
   "version": "3.8.3"
  }
 },
 "nbformat": 4,
 "nbformat_minor": 2
}
