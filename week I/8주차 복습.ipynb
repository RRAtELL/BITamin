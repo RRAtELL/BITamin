{
 "metadata": {
  "language_info": {
   "codemirror_mode": {
    "name": "ipython",
    "version": 3
   },
   "file_extension": ".py",
   "mimetype": "text/x-python",
   "name": "python",
   "nbconvert_exporter": "python",
   "pygments_lexer": "ipython3",
   "version": "3.9.1-final"
  },
  "orig_nbformat": 2,
  "kernelspec": {
   "name": "python3",
   "display_name": "Python 3.9.1 64-bit",
   "metadata": {
    "interpreter": {
     "hash": "60f29f44576df2b2e85d503a2ca747e46ec76ba550b4e266c9ac07bba6f3af6d"
    }
   }
  }
 },
 "nbformat": 4,
 "nbformat_minor": 2,
 "cells": [
  {
   "cell_type": "code",
   "execution_count": 1,
   "metadata": {},
   "outputs": [],
   "source": [
    "import numpy as np\n",
    "from sklearn.base import BaseEstimator\n",
    "\n",
    "class MyDummyClassifier(BaseEstimator):\n",
    "    def fit(self, X, y=None):\n",
    "        pass\n",
    "    def predict(self, X):\n",
    "        pred=np.zeros((X.shape[0], 1))\n",
    "        for i in range(X.shape[0]):\n",
    "            if X['Sex'].iloc[i]==1:\n",
    "                pred[i]=0\n",
    "            else:\n",
    "                pred[i]=1\n",
    "        return pred"
   ]
  },
  {
   "cell_type": "code",
   "execution_count": 2,
   "metadata": {},
   "outputs": [],
   "source": [
    "from sklearn.preprocessing import LabelEncoder\n",
    "\n",
    "def fillna(df):\n",
    "    df['Age'].fillna(df['Age'].mean(), inplace=True)\n",
    "    df['Cabin'].fillna('N', inplace=True)\n",
    "    df['Embarked'].fillna('N', inplace=True)\n",
    "    df['Fare'].fillna(0, inplace=True)\n",
    "    return df\n",
    "\n",
    "def drop_features(df):\n",
    "    df.drop(['PassengerId','Name','Ticket'], axis=1, inplace=True)\n",
    "    return df\n",
    "\n",
    "def format_features(df):\n",
    "    df['Cabin']=df['Cabin'].str[:1]\n",
    "    features=['Cabin', 'Sex', 'Embarked']\n",
    "    for feature in features:\n",
    "        le=LabelEncoder()\n",
    "        le=le.fit(df[feature])\n",
    "        df[feature]=le.transform(df[feature])\n",
    "    return df\n",
    "\n",
    "def transform_features(df):\n",
    "    df=fillna(df)\n",
    "    df=drop_features(df)\n",
    "    df=format_features(df)\n",
    "    return df"
   ]
  },
  {
   "cell_type": "code",
   "execution_count": 3,
   "metadata": {},
   "outputs": [],
   "source": [
    "import pandas as pd\n",
    "from sklearn.model_selection import train_test_split\n",
    "from sklearn.metrics import accuracy_score\n",
    "\n",
    "titanic_df=pd.read_csv('./titanic_train.csv')\n",
    "\n",
    "y_titanic_df=titanic_df['Survived']\n",
    "x_titanic_df=titanic_df.drop('Survived', axis=1)\n",
    "x_titanic_df=transform_features(x_titanic_df)\n",
    "\n",
    "X_train, X_test, y_train, y_test=train_test_split(x_titanic_df, y_titanic_df, test_size=0.2, random_state=0)"
   ]
  },
  {
   "cell_type": "code",
   "execution_count": 4,
   "metadata": {},
   "outputs": [
    {
     "output_type": "stream",
     "name": "stdout",
     "text": [
      "DummyClassifier의 정확도 : 0.7877\n"
     ]
    }
   ],
   "source": [
    "myclf=MyDummyClassifier()\n",
    "myclf.fit(X_train, y_train)\n",
    "mypredictions=myclf.predict(X_test)\n",
    "print('DummyClassifier의 정확도 : {0:.4f}'.format(accuracy_score(y_test, mypredictions)))"
   ]
  },
  {
   "cell_type": "code",
   "execution_count": 5,
   "metadata": {},
   "outputs": [],
   "source": [
    "from sklearn.datasets import load_digits"
   ]
  },
  {
   "cell_type": "code",
   "execution_count": 6,
   "metadata": {},
   "outputs": [],
   "source": [
    "import numpy as np"
   ]
  },
  {
   "cell_type": "code",
   "execution_count": 7,
   "metadata": {},
   "outputs": [],
   "source": [
    "class MyFakeClassifier(BaseEstimator):\n",
    "    def fit(self, X, y):\n",
    "        pass\n",
    "    def predict(self, X):\n",
    "        return np.zeros((len(X), 1), dtype=bool)"
   ]
  },
  {
   "cell_type": "code",
   "execution_count": 8,
   "metadata": {},
   "outputs": [],
   "source": [
    "digits=load_digits()\n",
    "y=(digits.target==7).astype(int)\n",
    "X_train, X_test, y_train, y_test=train_test_split(digits.data, y, random_state=11)"
   ]
  },
  {
   "cell_type": "code",
   "execution_count": 9,
   "metadata": {},
   "outputs": [
    {
     "output_type": "stream",
     "name": "stdout",
     "text": [
      "레이블 테스트 세트 크기 :  (450,)\n테스트 세트 레이블 0과 1의 분포도\n0    405\n1     45\ndtype: int64\n모든 예측을 0으로 하여도 정확도는 : 0.900\n"
     ]
    }
   ],
   "source": [
    "print('레이블 테스트 세트 크기 : ', y_test.shape)\n",
    "print('테스트 세트 레이블 0과 1의 분포도')\n",
    "print(pd.Series(y_test).value_counts())\n",
    "\n",
    "fakeclf=MyFakeClassifier()\n",
    "fakeclf.fit(X_train, y_train)\n",
    "fakepred=fakeclf.predict(X_test)\n",
    "print('모든 예측을 0으로 하여도 정확도는 : {0:.3f}'.format(accuracy_score(y_test, fakepred)))"
   ]
  },
  {
   "cell_type": "code",
   "execution_count": 10,
   "metadata": {},
   "outputs": [
    {
     "output_type": "execute_result",
     "data": {
      "text/plain": [
       "array([[405,   0],\n",
       "       [ 45,   0]], dtype=int64)"
      ]
     },
     "metadata": {},
     "execution_count": 10
    }
   ],
   "source": [
    "from sklearn.metrics import confusion_matrix\n",
    "\n",
    "confusion_matrix(y_test, fakepred)"
   ]
  },
  {
   "cell_type": "code",
   "execution_count": 11,
   "metadata": {},
   "outputs": [],
   "source": [
    "from sklearn.metrics import accuracy_score, precision_score, recall_score, confusion_matrix\n",
    "\n",
    "def get_clf_eval(y_test, pred):\n",
    "    confusion=confusion_matrix(y_test, pred)\n",
    "    accuracy=accuracy_score(y_test, pred)\n",
    "    precision=precision_score(y_test, pred)\n",
    "    recall=recall_score(y_test, pred)\n",
    "    print('오차 행렬')\n",
    "    print(confusion)\n",
    "    print('정확도 : {0:.4f}, 정밀도 : {1:.4f}, 재현율 : {2:.4f}'.format(accuracy, precision, recall))"
   ]
  },
  {
   "cell_type": "code",
   "execution_count": 12,
   "metadata": {},
   "outputs": [],
   "source": [
    "from sklearn.linear_model import LogisticRegression"
   ]
  },
  {
   "cell_type": "code",
   "execution_count": 13,
   "metadata": {},
   "outputs": [
    {
     "output_type": "stream",
     "name": "stdout",
     "text": [
      "오차 행렬\n[[104  14]\n [ 13  48]]\n정확도 : 0.8492, 정밀도 : 0.7742, 재현율 : 0.7869\n"
     ]
    }
   ],
   "source": [
    "titanic_df=pd.read_csv('./titanic_train.csv')\n",
    "y_titanic_df=titanic_df['Survived']\n",
    "x_titanic_df=titanic_df.drop('Survived', axis=1)\n",
    "x_titanic_df=transform_features(x_titanic_df)\n",
    "\n",
    "X_train, X_test, y_train, y_test=train_test_split(x_titanic_df, y_titanic_df, test_size=0.2, random_state=11)\n",
    "\n",
    "lr_clf=LogisticRegression()\n",
    "lr_clf.fit(X_train, y_train)\n",
    "pred=lr_clf.predict(X_test)\n",
    "\n",
    "get_clf_eval(y_test, pred)"
   ]
  },
  {
   "cell_type": "code",
   "execution_count": 14,
   "metadata": {},
   "outputs": [
    {
     "output_type": "stream",
     "name": "stdout",
     "text": [
      "pred_proba()결과 Shape : (179, 2)\npred_proba array에서 앞 3개만 샘플로 추출 : [[0.46175211 0.53824789]\n [0.87863924 0.12136076]\n [0.87717092 0.12282908]] \n두 개의 class 중에서 더 큰 확률을 클래스 값으로 예측 \n [[0.46175211 0.53824789 1.        ]\n [0.87863924 0.12136076 0.        ]\n [0.87717092 0.12282908 0.        ]]\n"
     ]
    }
   ],
   "source": [
    "pred_proba=lr_clf.predict_proba(X_test)\n",
    "pred=lr_clf.predict(X_test)\n",
    "print('pred_proba()결과 Shape : {0}'.format(pred_proba.shape))\n",
    "print('pred_proba array에서 앞 3개만 샘플로 추출 : {0} '.format(pred_proba[:3]))\n",
    "\n",
    "pred_proba_result=np.concatenate([pred_proba, pred.reshape(-1, 1)], axis=1)\n",
    "print('두 개의 class 중에서 더 큰 확률을 클래스 값으로 예측 \\n', pred_proba_result[:3])"
   ]
  },
  {
   "cell_type": "code",
   "execution_count": 15,
   "metadata": {},
   "outputs": [
    {
     "output_type": "stream",
     "name": "stdout",
     "text": [
      "[[0. 0. 1.]\n [1. 0. 0.]\n [0. 0. 1.]]\n"
     ]
    }
   ],
   "source": [
    "from sklearn.preprocessing import Binarizer\n",
    "\n",
    "X=[[1,-1,2],\n",
    "   [2,0,0],\n",
    "   [0,1.1,1.2]]\n",
    "\n",
    "binarizer=Binarizer(threshold=1.1)\n",
    "print(binarizer.fit_transform(X))"
   ]
  },
  {
   "cell_type": "code",
   "execution_count": 16,
   "metadata": {},
   "outputs": [
    {
     "output_type": "stream",
     "name": "stdout",
     "text": [
      "오차 행렬\n[[104  14]\n [ 13  48]]\n정확도 : 0.8492, 정밀도 : 0.7742, 재현율 : 0.7869\n"
     ]
    }
   ],
   "source": [
    "custom_threshold=0.5\n",
    "\n",
    "pred_proba_1=pred_proba[:, 1].reshape(-1, 1)\n",
    "binarizer=Binarizer(threshold=custom_threshold).fit(pred_proba_1)\n",
    "custom_predict=binarizer.transform(pred_proba_1)\n",
    "\n",
    "get_clf_eval(y_test, custom_predict)"
   ]
  },
  {
   "cell_type": "code",
   "execution_count": 17,
   "metadata": {},
   "outputs": [
    {
     "output_type": "stream",
     "name": "stdout",
     "text": [
      "오차 행렬\n[[98 20]\n [10 51]]\n정확도 : 0.8324, 정밀도 : 0.7183, 재현율 : 0.8361\n"
     ]
    }
   ],
   "source": [
    "custom_threshold=0.4\n",
    "\n",
    "pred_proba_1=pred_proba[:, 1].reshape(-1, 1)\n",
    "binarizer=Binarizer(threshold=custom_threshold).fit(pred_proba_1)\n",
    "custom_predict=binarizer.transform(pred_proba_1)\n",
    "\n",
    "get_clf_eval(y_test, custom_predict)"
   ]
  },
  {
   "cell_type": "code",
   "execution_count": 18,
   "metadata": {},
   "outputs": [
    {
     "output_type": "stream",
     "name": "stdout",
     "text": [
      "임곗값 :  0.4\n오차 행렬\n[[98 20]\n [10 51]]\n정확도 : 0.8324, 정밀도 : 0.7183, 재현율 : 0.8361\n임곗값 :  0.45\n오차 행렬\n[[103  15]\n [ 12  49]]\n정확도 : 0.8492, 정밀도 : 0.7656, 재현율 : 0.8033\n임곗값 :  0.5\n오차 행렬\n[[104  14]\n [ 13  48]]\n정확도 : 0.8492, 정밀도 : 0.7742, 재현율 : 0.7869\n임곗값 :  0.55\n오차 행렬\n[[109   9]\n [ 15  46]]\n정확도 : 0.8659, 정밀도 : 0.8364, 재현율 : 0.7541\n임곗값 :  0.6\n오차 행렬\n[[112   6]\n [ 16  45]]\n정확도 : 0.8771, 정밀도 : 0.8824, 재현율 : 0.7377\n"
     ]
    }
   ],
   "source": [
    "thresholds=[0.4, 0.45, 0.5, 0.55, 0.6]\n",
    "\n",
    "def get_eval_by_threshold(y_test, pred_proba_c1, thresholds):\n",
    "    for custom_threshold in thresholds:\n",
    "        binarizer=Binarizer(threshold=custom_threshold).fit(pred_proba_c1)\n",
    "        custom_predict=binarizer.transform(pred_proba_c1)\n",
    "        print('임곗값 : ', custom_threshold)\n",
    "        get_clf_eval(y_test, custom_predict)\n",
    "\n",
    "get_eval_by_threshold(y_test, pred_proba[:, 1].reshape(-1, 1), thresholds)"
   ]
  },
  {
   "cell_type": "code",
   "execution_count": 19,
   "metadata": {},
   "outputs": [
    {
     "output_type": "stream",
     "name": "stdout",
     "text": [
      "반환된 분류 결정 임계값 배열의 shape :  (143,)\n샘플 추출을 위한 임계값 배열의 index 10개 :  [  0  14  28  42  56  70  84  98 112 126 140]\n샘플용 10개의 임계값 :  [0.1  0.12 0.13 0.17 0.25 0.36 0.51 0.63 0.75 0.88 0.95]\n샘플 임계값별 정밀도 :  [0.389 0.437 0.458 0.524 0.618 0.707 0.787 0.913 0.938 0.944 1.   ]\n샘플 임계값별 재현율 :  [1.    0.967 0.902 0.902 0.902 0.869 0.787 0.689 0.492 0.279 0.066]\n"
     ]
    }
   ],
   "source": [
    "from sklearn.metrics import precision_recall_curve\n",
    "\n",
    "pred_proba_class1=lr_clf.predict_proba(X_test)[:, 1]\n",
    "\n",
    "precisions, recalls, thresholds=precision_recall_curve(y_test, pred_proba_class1)\n",
    "print('반환된 분류 결정 임계값 배열의 shape : ', thresholds.shape)\n",
    "\n",
    "thr_index=np.arange(0, thresholds.shape[0], 14)\n",
    "print('샘플 추출을 위한 임계값 배열의 index 10개 : ', thr_index)\n",
    "print('샘플용 10개의 임계값 : ', np.round(thresholds[thr_index], 2))\n",
    "\n",
    "print('샘플 임계값별 정밀도 : ', np.round(precisions[thr_index], 3))\n",
    "print('샘플 임계값별 재현율 : ', np.round(recalls[thr_index], 3))"
   ]
  },
  {
   "cell_type": "code",
   "execution_count": 20,
   "metadata": {},
   "outputs": [],
   "source": [
    "import matplotlib.pyplot as plt\n",
    "import matplotlib.ticker as ticker\n",
    "%matplotlib inline"
   ]
  },
  {
   "source": [
    "def precision_recall_curve_plot(y_test, pred_proba_c1):\n",
    "    \n",
    "    precisions, recalls, thresholds=precision_recall_curve(y_test, pred_proba_c1)\n",
    "    plt.figure(figsize=(8, 6))\n",
    "    threshold_boundary=thresholds.shape[0]\n",
    "    \n",
    "    plt.plot(thresholds, precisions[0:threshold_boundary], linestyle='--', label='precision')\n",
    "    plt.plot(thresholds, recalls[0:threshold_boundary], label='recall')\n",
    "\n",
    "    start, end=plt.xlim()\n",
    "    plt.xticks(np.round(np.arange(start, end, 0.1),2))\n",
    "\n",
    "    plt.xlabel('Threshold value');plt.ylabel('Precision and Recall value')\n",
    "    plt.legend();plt.grid()\n",
    "    plt.show()\n",
    "\n",
    "precision_recall_curve_plot(y_test, lr_clf.predict_proba(X_test)[:,1])"
   ],
   "cell_type": "markdown",
   "metadata": {}
  },
  {
   "cell_type": "code",
   "execution_count": null,
   "metadata": {},
   "outputs": [],
   "source": []
  }
 ]
}